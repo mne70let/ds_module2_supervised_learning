{
 "cells": [
  {
   "cell_type": "markdown",
   "id": "1b46a361",
   "metadata": {},
   "source": [
    "Привет! меня зовут Люман Аблаев. Сегодня я проверю твой проект.\n",
    "<br> Дальнейшее общение будет происходить на \"ты\" если это не вызывает никаких проблем.\n",
    "<br> Желательно реагировать на каждый мой комментарий ('исправил', 'не понятно как исправить ошибку', ...)\n",
    "<br> Пожалуйста, не удаляй комментарии ревьюера, так как они повышают качество повторного ревью.\n",
    "\n",
    "Комментарии будут в <font color='green'>зеленой</font>, <font color='blue'>синей</font> или <font color='red'>красной</font> рамках:\n",
    "\n",
    "\n",
    "<div class=\"alert alert-block alert-success\">\n",
    "<b>Успех:</b> Если все сделано отлично\n",
    "</div>\n",
    "\n",
    "<div class=\"alert alert-block alert-info\">\n",
    "<b>Совет: </b> Если можно немного улучшить\n",
    "</div>\n",
    "\n",
    "<div class=\"alert alert-block alert-danger\">\n",
    "<b>Ошибка:</b> Если требуются исправления. Работа не может быть принята с красными комментариями.\n",
    "</div>\n",
    "\n",
    "-------------------\n",
    "\n",
    "Будет очень хорошо, если ты будешь помечать свои действия следующим образом:\n",
    "<div class=\"alert alert-block alert-warning\">\n",
    "<b>Комментарий студента:</b> ..\n",
    "</div>\n",
    "<div class=\"alert alert-block alert-warning\">\n",
    "<b>Изменения:</b> Были внесены следующие изменения ...\n",
    "</div>\n",
    "\n",
    "<font color='orange' style='font-size:24px; font-weight:bold'>Полезные ссылки</font>\n",
    "* Очень интересная и полезная статья: https://dyakonov.org/2021/05/27/imbalance/\n",
    "\n",
    "<font color='orange' style='font-size:24px; font-weight:bold'>Общее впечатление</font>\n",
    "* Спасибо за  качественную работу, видно, что приложено много усилий.\n",
    "- Я оставил некоторые советы, надеюсь они будут полезными или интересными.\n",
    "- Есть небольшие недочеты, но думаю у тебя не составить труда их исправить\n",
    "- Жду обновленную работу!"
   ]
  },
  {
   "cell_type": "markdown",
   "id": "af35745e",
   "metadata": {},
   "source": [
    "<font color='orange' style='font-size:24px; font-weight:bold'>Общее впечатление[3]</font>\n",
    "* Спасибо за усердность!\n",
    "- Приятно видеть фидбек на комментарии.\n",
    "- Недочеты исправлены - работа полностью корректна\n",
    "- Не буду больше задерживать, продолжай в том же духе, в тебе есть потенциал!)\n"
   ]
  },
  {
   "cell_type": "markdown",
   "id": "bb9814ca",
   "metadata": {},
   "source": [
    "<div class=\"alert alert-block alert-warning\">\n",
    "<b>Комментарий студента:</b> Люман, привет! очень рад, что ты снова проверяешь мою работу. В прошлый раз я много полезного подчеркнул. Поехали.\n",
    "</div>"
   ]
  },
  {
   "cell_type": "markdown",
   "id": "b7282e06",
   "metadata": {},
   "source": [
    "<div class=\"alert alert-block alert-success\">\n",
    "    \n",
    "<b>Успех[2]:</b> Приятно слышать, пойдем смотреть работу)\n",
    "</div>\n"
   ]
  },
  {
   "cell_type": "markdown",
   "id": "eb88b23d",
   "metadata": {},
   "source": [
    "# Отток клиентов"
   ]
  },
  {
   "cell_type": "markdown",
   "id": "05deed97",
   "metadata": {},
   "source": [
    "Из «Бета-Банка» стали уходить клиенты. Каждый месяц. Немного, но заметно. Банковские маркетологи посчитали: сохранять текущих клиентов дешевле, чем привлекать новых.\n",
    "\n",
    "Нужно спрогнозировать, уйдёт клиент из банка в ближайшее время или нет. Вам предоставлены исторические данные о поведении клиентов и расторжении договоров с банком. \n",
    "\n",
    "Постройте модель с предельно большим значением *F1*-меры. Чтобы сдать проект успешно, нужно довести метрику до 0.59. Проверьте *F1*-меру на тестовой выборке самостоятельно.\n",
    "\n",
    "Дополнительно измеряйте *AUC-ROC*, сравнивайте её значение с *F1*-мерой.\n",
    "\n",
    "Источник данных: [https://www.kaggle.com/barelydedicated/bank-customer-churn-modeling](https://www.kaggle.com/barelydedicated/bank-customer-churn-modeling)"
   ]
  },
  {
   "cell_type": "markdown",
   "id": "71732461",
   "metadata": {},
   "source": [
    "## Подготовка данных"
   ]
  },
  {
   "cell_type": "markdown",
   "id": "d7b03f5a",
   "metadata": {},
   "source": [
    "Настройка ширины ячейки и загрузка необходимых библиотек"
   ]
  },
  {
   "cell_type": "code",
   "execution_count": 1,
   "id": "aacf6a84",
   "metadata": {},
   "outputs": [
    {
     "data": {
      "text/html": [
       "<style>.container { width:75% !important; }</style>"
      ],
      "text/plain": [
       "<IPython.core.display.HTML object>"
      ]
     },
     "metadata": {},
     "output_type": "display_data"
    }
   ],
   "source": [
    "from IPython.display import display, HTML\n",
    "display(HTML(\"<style>.container { width:75% !important; }</style>\"))\n",
    "\n",
    "import pandas as pd\n",
    "import numpy as np\n",
    "import matplotlib.pyplot as plt\n",
    "import seaborn as sns\n",
    "\n",
    "from sklearn.model_selection import train_test_split\n",
    "from sklearn.ensemble import RandomForestClassifier\n",
    "from sklearn.linear_model import LogisticRegression\n",
    "from sklearn.dummy import DummyClassifier\n",
    "\n",
    "from sklearn.preprocessing import OneHotEncoder\n",
    "from sklearn.preprocessing import OrdinalEncoder\n",
    "\n",
    "from sklearn.preprocessing import OrdinalEncoder\n",
    "from sklearn.preprocessing import StandardScaler\n",
    "from sklearn.preprocessing import MinMaxScaler\n",
    "\n",
    "from sklearn.metrics import accuracy_score\n",
    "from sklearn.linear_model import LogisticRegression\n",
    "from sklearn.tree import DecisionTreeClassifier\n",
    "from sklearn.ensemble import RandomForestClassifier\n",
    "\n",
    "from sklearn.metrics import roc_curve\n",
    "from sklearn.metrics import roc_auc_score\n",
    "\n",
    "from sklearn.metrics import recall_score\n",
    "from sklearn.metrics import precision_score\n",
    "from sklearn. metrics import precision_recall_curve\n",
    "from sklearn.metrics import f1_score \n",
    "\n",
    "from sklearn.model_selection import GridSearchCV\n",
    "from sklearn.model_selection import ParameterGrid\n",
    "from sklearn import ensemble\n",
    "from sklearn import model_selection\n",
    "import warnings\n",
    "warnings.filterwarnings('ignore')\n",
    "\n",
    "from sklearn.utils import resample\n",
    "from sklearn.utils import shuffle"
   ]
  },
  {
   "cell_type": "markdown",
   "id": "a948c6da",
   "metadata": {},
   "source": [
    "\n",
    "<div class=\"alert alert-block alert-success\">\n",
    "<b>Успех:</b> Импорты на месте\n",
    "</div>\n"
   ]
  },
  {
   "cell_type": "markdown",
   "id": "29765a6d",
   "metadata": {},
   "source": [
    "### Импорт данных, приведение типов, визуализация распределений"
   ]
  },
  {
   "cell_type": "markdown",
   "id": "c4fb04d9",
   "metadata": {},
   "source": [
    "Импорт данных"
   ]
  },
  {
   "cell_type": "code",
   "execution_count": 2,
   "id": "e5d72af1",
   "metadata": {},
   "outputs": [
    {
     "data": {
      "text/html": [
       "<div>\n",
       "<style scoped>\n",
       "    .dataframe tbody tr th:only-of-type {\n",
       "        vertical-align: middle;\n",
       "    }\n",
       "\n",
       "    .dataframe tbody tr th {\n",
       "        vertical-align: top;\n",
       "    }\n",
       "\n",
       "    .dataframe thead th {\n",
       "        text-align: right;\n",
       "    }\n",
       "</style>\n",
       "<table border=\"1\" class=\"dataframe\">\n",
       "  <thead>\n",
       "    <tr style=\"text-align: right;\">\n",
       "      <th></th>\n",
       "      <th>RowNumber</th>\n",
       "      <th>CustomerId</th>\n",
       "      <th>Surname</th>\n",
       "      <th>CreditScore</th>\n",
       "      <th>Geography</th>\n",
       "      <th>Gender</th>\n",
       "      <th>Age</th>\n",
       "      <th>Tenure</th>\n",
       "      <th>Balance</th>\n",
       "      <th>NumOfProducts</th>\n",
       "      <th>HasCrCard</th>\n",
       "      <th>IsActiveMember</th>\n",
       "      <th>EstimatedSalary</th>\n",
       "      <th>Exited</th>\n",
       "    </tr>\n",
       "  </thead>\n",
       "  <tbody>\n",
       "    <tr>\n",
       "      <th>0</th>\n",
       "      <td>1</td>\n",
       "      <td>15634602</td>\n",
       "      <td>Hargrave</td>\n",
       "      <td>619</td>\n",
       "      <td>France</td>\n",
       "      <td>Female</td>\n",
       "      <td>42</td>\n",
       "      <td>2.0</td>\n",
       "      <td>0.00</td>\n",
       "      <td>1</td>\n",
       "      <td>1</td>\n",
       "      <td>1</td>\n",
       "      <td>101348.88</td>\n",
       "      <td>1</td>\n",
       "    </tr>\n",
       "    <tr>\n",
       "      <th>1</th>\n",
       "      <td>2</td>\n",
       "      <td>15647311</td>\n",
       "      <td>Hill</td>\n",
       "      <td>608</td>\n",
       "      <td>Spain</td>\n",
       "      <td>Female</td>\n",
       "      <td>41</td>\n",
       "      <td>1.0</td>\n",
       "      <td>83807.86</td>\n",
       "      <td>1</td>\n",
       "      <td>0</td>\n",
       "      <td>1</td>\n",
       "      <td>112542.58</td>\n",
       "      <td>0</td>\n",
       "    </tr>\n",
       "    <tr>\n",
       "      <th>2</th>\n",
       "      <td>3</td>\n",
       "      <td>15619304</td>\n",
       "      <td>Onio</td>\n",
       "      <td>502</td>\n",
       "      <td>France</td>\n",
       "      <td>Female</td>\n",
       "      <td>42</td>\n",
       "      <td>8.0</td>\n",
       "      <td>159660.80</td>\n",
       "      <td>3</td>\n",
       "      <td>1</td>\n",
       "      <td>0</td>\n",
       "      <td>113931.57</td>\n",
       "      <td>1</td>\n",
       "    </tr>\n",
       "    <tr>\n",
       "      <th>3</th>\n",
       "      <td>4</td>\n",
       "      <td>15701354</td>\n",
       "      <td>Boni</td>\n",
       "      <td>699</td>\n",
       "      <td>France</td>\n",
       "      <td>Female</td>\n",
       "      <td>39</td>\n",
       "      <td>1.0</td>\n",
       "      <td>0.00</td>\n",
       "      <td>2</td>\n",
       "      <td>0</td>\n",
       "      <td>0</td>\n",
       "      <td>93826.63</td>\n",
       "      <td>0</td>\n",
       "    </tr>\n",
       "    <tr>\n",
       "      <th>4</th>\n",
       "      <td>5</td>\n",
       "      <td>15737888</td>\n",
       "      <td>Mitchell</td>\n",
       "      <td>850</td>\n",
       "      <td>Spain</td>\n",
       "      <td>Female</td>\n",
       "      <td>43</td>\n",
       "      <td>2.0</td>\n",
       "      <td>125510.82</td>\n",
       "      <td>1</td>\n",
       "      <td>1</td>\n",
       "      <td>1</td>\n",
       "      <td>79084.10</td>\n",
       "      <td>0</td>\n",
       "    </tr>\n",
       "    <tr>\n",
       "      <th>...</th>\n",
       "      <td>...</td>\n",
       "      <td>...</td>\n",
       "      <td>...</td>\n",
       "      <td>...</td>\n",
       "      <td>...</td>\n",
       "      <td>...</td>\n",
       "      <td>...</td>\n",
       "      <td>...</td>\n",
       "      <td>...</td>\n",
       "      <td>...</td>\n",
       "      <td>...</td>\n",
       "      <td>...</td>\n",
       "      <td>...</td>\n",
       "      <td>...</td>\n",
       "    </tr>\n",
       "    <tr>\n",
       "      <th>9995</th>\n",
       "      <td>9996</td>\n",
       "      <td>15606229</td>\n",
       "      <td>Obijiaku</td>\n",
       "      <td>771</td>\n",
       "      <td>France</td>\n",
       "      <td>Male</td>\n",
       "      <td>39</td>\n",
       "      <td>5.0</td>\n",
       "      <td>0.00</td>\n",
       "      <td>2</td>\n",
       "      <td>1</td>\n",
       "      <td>0</td>\n",
       "      <td>96270.64</td>\n",
       "      <td>0</td>\n",
       "    </tr>\n",
       "    <tr>\n",
       "      <th>9996</th>\n",
       "      <td>9997</td>\n",
       "      <td>15569892</td>\n",
       "      <td>Johnstone</td>\n",
       "      <td>516</td>\n",
       "      <td>France</td>\n",
       "      <td>Male</td>\n",
       "      <td>35</td>\n",
       "      <td>10.0</td>\n",
       "      <td>57369.61</td>\n",
       "      <td>1</td>\n",
       "      <td>1</td>\n",
       "      <td>1</td>\n",
       "      <td>101699.77</td>\n",
       "      <td>0</td>\n",
       "    </tr>\n",
       "    <tr>\n",
       "      <th>9997</th>\n",
       "      <td>9998</td>\n",
       "      <td>15584532</td>\n",
       "      <td>Liu</td>\n",
       "      <td>709</td>\n",
       "      <td>France</td>\n",
       "      <td>Female</td>\n",
       "      <td>36</td>\n",
       "      <td>7.0</td>\n",
       "      <td>0.00</td>\n",
       "      <td>1</td>\n",
       "      <td>0</td>\n",
       "      <td>1</td>\n",
       "      <td>42085.58</td>\n",
       "      <td>1</td>\n",
       "    </tr>\n",
       "    <tr>\n",
       "      <th>9998</th>\n",
       "      <td>9999</td>\n",
       "      <td>15682355</td>\n",
       "      <td>Sabbatini</td>\n",
       "      <td>772</td>\n",
       "      <td>Germany</td>\n",
       "      <td>Male</td>\n",
       "      <td>42</td>\n",
       "      <td>3.0</td>\n",
       "      <td>75075.31</td>\n",
       "      <td>2</td>\n",
       "      <td>1</td>\n",
       "      <td>0</td>\n",
       "      <td>92888.52</td>\n",
       "      <td>1</td>\n",
       "    </tr>\n",
       "    <tr>\n",
       "      <th>9999</th>\n",
       "      <td>10000</td>\n",
       "      <td>15628319</td>\n",
       "      <td>Walker</td>\n",
       "      <td>792</td>\n",
       "      <td>France</td>\n",
       "      <td>Female</td>\n",
       "      <td>28</td>\n",
       "      <td>NaN</td>\n",
       "      <td>130142.79</td>\n",
       "      <td>1</td>\n",
       "      <td>1</td>\n",
       "      <td>0</td>\n",
       "      <td>38190.78</td>\n",
       "      <td>0</td>\n",
       "    </tr>\n",
       "  </tbody>\n",
       "</table>\n",
       "<p>10000 rows × 14 columns</p>\n",
       "</div>"
      ],
      "text/plain": [
       "      RowNumber  CustomerId    Surname  CreditScore Geography  Gender  Age  \\\n",
       "0             1    15634602   Hargrave          619    France  Female   42   \n",
       "1             2    15647311       Hill          608     Spain  Female   41   \n",
       "2             3    15619304       Onio          502    France  Female   42   \n",
       "3             4    15701354       Boni          699    France  Female   39   \n",
       "4             5    15737888   Mitchell          850     Spain  Female   43   \n",
       "...         ...         ...        ...          ...       ...     ...  ...   \n",
       "9995       9996    15606229   Obijiaku          771    France    Male   39   \n",
       "9996       9997    15569892  Johnstone          516    France    Male   35   \n",
       "9997       9998    15584532        Liu          709    France  Female   36   \n",
       "9998       9999    15682355  Sabbatini          772   Germany    Male   42   \n",
       "9999      10000    15628319     Walker          792    France  Female   28   \n",
       "\n",
       "      Tenure    Balance  NumOfProducts  HasCrCard  IsActiveMember  \\\n",
       "0        2.0       0.00              1          1               1   \n",
       "1        1.0   83807.86              1          0               1   \n",
       "2        8.0  159660.80              3          1               0   \n",
       "3        1.0       0.00              2          0               0   \n",
       "4        2.0  125510.82              1          1               1   \n",
       "...      ...        ...            ...        ...             ...   \n",
       "9995     5.0       0.00              2          1               0   \n",
       "9996    10.0   57369.61              1          1               1   \n",
       "9997     7.0       0.00              1          0               1   \n",
       "9998     3.0   75075.31              2          1               0   \n",
       "9999     NaN  130142.79              1          1               0   \n",
       "\n",
       "      EstimatedSalary  Exited  \n",
       "0           101348.88       1  \n",
       "1           112542.58       0  \n",
       "2           113931.57       1  \n",
       "3            93826.63       0  \n",
       "4            79084.10       0  \n",
       "...               ...     ...  \n",
       "9995         96270.64       0  \n",
       "9996        101699.77       0  \n",
       "9997         42085.58       1  \n",
       "9998         92888.52       1  \n",
       "9999         38190.78       0  \n",
       "\n",
       "[10000 rows x 14 columns]"
      ]
     },
     "execution_count": 2,
     "metadata": {},
     "output_type": "execute_result"
    }
   ],
   "source": [
    "df=pd.read_csv('https://code.s3.yandex.net/datasets/Churn.csv')\n",
    "df"
   ]
  },
  {
   "cell_type": "code",
   "execution_count": 3,
   "id": "5cda7bd7",
   "metadata": {
    "scrolled": false
   },
   "outputs": [
    {
     "name": "stdout",
     "output_type": "stream",
     "text": [
      "<class 'pandas.core.frame.DataFrame'>\n",
      "RangeIndex: 10000 entries, 0 to 9999\n",
      "Data columns (total 14 columns):\n",
      " #   Column           Non-Null Count  Dtype  \n",
      "---  ------           --------------  -----  \n",
      " 0   RowNumber        10000 non-null  int64  \n",
      " 1   CustomerId       10000 non-null  int64  \n",
      " 2   Surname          10000 non-null  object \n",
      " 3   CreditScore      10000 non-null  int64  \n",
      " 4   Geography        10000 non-null  object \n",
      " 5   Gender           10000 non-null  object \n",
      " 6   Age              10000 non-null  int64  \n",
      " 7   Tenure           9091 non-null   float64\n",
      " 8   Balance          10000 non-null  float64\n",
      " 9   NumOfProducts    10000 non-null  int64  \n",
      " 10  HasCrCard        10000 non-null  int64  \n",
      " 11  IsActiveMember   10000 non-null  int64  \n",
      " 12  EstimatedSalary  10000 non-null  float64\n",
      " 13  Exited           10000 non-null  int64  \n",
      "dtypes: float64(3), int64(8), object(3)\n",
      "memory usage: 1.1+ MB\n"
     ]
    }
   ],
   "source": [
    "df.info()"
   ]
  },
  {
   "cell_type": "code",
   "execution_count": 4,
   "id": "98387cb2",
   "metadata": {},
   "outputs": [
    {
     "data": {
      "text/html": [
       "<div>\n",
       "<style scoped>\n",
       "    .dataframe tbody tr th:only-of-type {\n",
       "        vertical-align: middle;\n",
       "    }\n",
       "\n",
       "    .dataframe tbody tr th {\n",
       "        vertical-align: top;\n",
       "    }\n",
       "\n",
       "    .dataframe thead th {\n",
       "        text-align: right;\n",
       "    }\n",
       "</style>\n",
       "<table border=\"1\" class=\"dataframe\">\n",
       "  <thead>\n",
       "    <tr style=\"text-align: right;\">\n",
       "      <th></th>\n",
       "      <th>RowNumber</th>\n",
       "      <th>CustomerId</th>\n",
       "      <th>CreditScore</th>\n",
       "      <th>Age</th>\n",
       "      <th>Tenure</th>\n",
       "      <th>Balance</th>\n",
       "      <th>NumOfProducts</th>\n",
       "      <th>HasCrCard</th>\n",
       "      <th>IsActiveMember</th>\n",
       "      <th>EstimatedSalary</th>\n",
       "      <th>Exited</th>\n",
       "    </tr>\n",
       "  </thead>\n",
       "  <tbody>\n",
       "    <tr>\n",
       "      <th>count</th>\n",
       "      <td>10000.00000</td>\n",
       "      <td>1.000000e+04</td>\n",
       "      <td>10000.000000</td>\n",
       "      <td>10000.000000</td>\n",
       "      <td>9091.000000</td>\n",
       "      <td>10000.000000</td>\n",
       "      <td>10000.000000</td>\n",
       "      <td>10000.00000</td>\n",
       "      <td>10000.000000</td>\n",
       "      <td>10000.000000</td>\n",
       "      <td>10000.000000</td>\n",
       "    </tr>\n",
       "    <tr>\n",
       "      <th>mean</th>\n",
       "      <td>5000.50000</td>\n",
       "      <td>1.569094e+07</td>\n",
       "      <td>650.528800</td>\n",
       "      <td>38.921800</td>\n",
       "      <td>4.997690</td>\n",
       "      <td>76485.889288</td>\n",
       "      <td>1.530200</td>\n",
       "      <td>0.70550</td>\n",
       "      <td>0.515100</td>\n",
       "      <td>100090.239881</td>\n",
       "      <td>0.203700</td>\n",
       "    </tr>\n",
       "    <tr>\n",
       "      <th>std</th>\n",
       "      <td>2886.89568</td>\n",
       "      <td>7.193619e+04</td>\n",
       "      <td>96.653299</td>\n",
       "      <td>10.487806</td>\n",
       "      <td>2.894723</td>\n",
       "      <td>62397.405202</td>\n",
       "      <td>0.581654</td>\n",
       "      <td>0.45584</td>\n",
       "      <td>0.499797</td>\n",
       "      <td>57510.492818</td>\n",
       "      <td>0.402769</td>\n",
       "    </tr>\n",
       "    <tr>\n",
       "      <th>min</th>\n",
       "      <td>1.00000</td>\n",
       "      <td>1.556570e+07</td>\n",
       "      <td>350.000000</td>\n",
       "      <td>18.000000</td>\n",
       "      <td>0.000000</td>\n",
       "      <td>0.000000</td>\n",
       "      <td>1.000000</td>\n",
       "      <td>0.00000</td>\n",
       "      <td>0.000000</td>\n",
       "      <td>11.580000</td>\n",
       "      <td>0.000000</td>\n",
       "    </tr>\n",
       "    <tr>\n",
       "      <th>25%</th>\n",
       "      <td>2500.75000</td>\n",
       "      <td>1.562853e+07</td>\n",
       "      <td>584.000000</td>\n",
       "      <td>32.000000</td>\n",
       "      <td>2.000000</td>\n",
       "      <td>0.000000</td>\n",
       "      <td>1.000000</td>\n",
       "      <td>0.00000</td>\n",
       "      <td>0.000000</td>\n",
       "      <td>51002.110000</td>\n",
       "      <td>0.000000</td>\n",
       "    </tr>\n",
       "    <tr>\n",
       "      <th>50%</th>\n",
       "      <td>5000.50000</td>\n",
       "      <td>1.569074e+07</td>\n",
       "      <td>652.000000</td>\n",
       "      <td>37.000000</td>\n",
       "      <td>5.000000</td>\n",
       "      <td>97198.540000</td>\n",
       "      <td>1.000000</td>\n",
       "      <td>1.00000</td>\n",
       "      <td>1.000000</td>\n",
       "      <td>100193.915000</td>\n",
       "      <td>0.000000</td>\n",
       "    </tr>\n",
       "    <tr>\n",
       "      <th>75%</th>\n",
       "      <td>7500.25000</td>\n",
       "      <td>1.575323e+07</td>\n",
       "      <td>718.000000</td>\n",
       "      <td>44.000000</td>\n",
       "      <td>7.000000</td>\n",
       "      <td>127644.240000</td>\n",
       "      <td>2.000000</td>\n",
       "      <td>1.00000</td>\n",
       "      <td>1.000000</td>\n",
       "      <td>149388.247500</td>\n",
       "      <td>0.000000</td>\n",
       "    </tr>\n",
       "    <tr>\n",
       "      <th>max</th>\n",
       "      <td>10000.00000</td>\n",
       "      <td>1.581569e+07</td>\n",
       "      <td>850.000000</td>\n",
       "      <td>92.000000</td>\n",
       "      <td>10.000000</td>\n",
       "      <td>250898.090000</td>\n",
       "      <td>4.000000</td>\n",
       "      <td>1.00000</td>\n",
       "      <td>1.000000</td>\n",
       "      <td>199992.480000</td>\n",
       "      <td>1.000000</td>\n",
       "    </tr>\n",
       "  </tbody>\n",
       "</table>\n",
       "</div>"
      ],
      "text/plain": [
       "         RowNumber    CustomerId   CreditScore           Age       Tenure  \\\n",
       "count  10000.00000  1.000000e+04  10000.000000  10000.000000  9091.000000   \n",
       "mean    5000.50000  1.569094e+07    650.528800     38.921800     4.997690   \n",
       "std     2886.89568  7.193619e+04     96.653299     10.487806     2.894723   \n",
       "min        1.00000  1.556570e+07    350.000000     18.000000     0.000000   \n",
       "25%     2500.75000  1.562853e+07    584.000000     32.000000     2.000000   \n",
       "50%     5000.50000  1.569074e+07    652.000000     37.000000     5.000000   \n",
       "75%     7500.25000  1.575323e+07    718.000000     44.000000     7.000000   \n",
       "max    10000.00000  1.581569e+07    850.000000     92.000000    10.000000   \n",
       "\n",
       "             Balance  NumOfProducts    HasCrCard  IsActiveMember  \\\n",
       "count   10000.000000   10000.000000  10000.00000    10000.000000   \n",
       "mean    76485.889288       1.530200      0.70550        0.515100   \n",
       "std     62397.405202       0.581654      0.45584        0.499797   \n",
       "min         0.000000       1.000000      0.00000        0.000000   \n",
       "25%         0.000000       1.000000      0.00000        0.000000   \n",
       "50%     97198.540000       1.000000      1.00000        1.000000   \n",
       "75%    127644.240000       2.000000      1.00000        1.000000   \n",
       "max    250898.090000       4.000000      1.00000        1.000000   \n",
       "\n",
       "       EstimatedSalary        Exited  \n",
       "count     10000.000000  10000.000000  \n",
       "mean     100090.239881      0.203700  \n",
       "std       57510.492818      0.402769  \n",
       "min          11.580000      0.000000  \n",
       "25%       51002.110000      0.000000  \n",
       "50%      100193.915000      0.000000  \n",
       "75%      149388.247500      0.000000  \n",
       "max      199992.480000      1.000000  "
      ]
     },
     "execution_count": 4,
     "metadata": {},
     "output_type": "execute_result"
    }
   ],
   "source": [
    "df.describe()"
   ]
  },
  {
   "cell_type": "markdown",
   "id": "441944f4",
   "metadata": {},
   "source": [
    "- Отмечаем, что 10% значений для параметра tenure (сколько лет человек является клиентом банка) отсутстуют. В остальном данные полные\n",
    "- Типы данных адекватны, однако значениям tenure (как показал дальнейший анализ) следует присвоить целочисленный тип"
   ]
  },
  {
   "cell_type": "code",
   "execution_count": 5,
   "id": "442049df",
   "metadata": {},
   "outputs": [],
   "source": [
    "df['Tenure']=df['Tenure'].astype('Int64')"
   ]
  },
  {
   "cell_type": "markdown",
   "id": "5956d5b2",
   "metadata": {},
   "source": [
    "- Убираем столбцы, которые не нужны для построения модели"
   ]
  },
  {
   "cell_type": "code",
   "execution_count": 6,
   "id": "1f7d4164",
   "metadata": {},
   "outputs": [],
   "source": [
    "df=df.drop(columns=['RowNumber', 'CustomerId', 'Surname'])"
   ]
  },
  {
   "cell_type": "markdown",
   "id": "c83ea5fe",
   "metadata": {},
   "source": [
    "<div class=\"alert alert-block alert-success\">\n",
    "<b>Успех:</b> Удалить неинформативные признаки - хорошее решение.\n",
    "</div>"
   ]
  },
  {
   "cell_type": "markdown",
   "id": "5b9b3693",
   "metadata": {},
   "source": [
    "Приводим имена столбцов к стандартному виду"
   ]
  },
  {
   "cell_type": "code",
   "execution_count": 7,
   "id": "c09c87a8",
   "metadata": {},
   "outputs": [],
   "source": [
    "df.columns=df.columns.str.lower()"
   ]
  },
  {
   "cell_type": "markdown",
   "id": "d1ba9880",
   "metadata": {},
   "source": [
    "Визуализируем оставшиеся данные для анализа их распределений:"
   ]
  },
  {
   "cell_type": "code",
   "execution_count": 8,
   "id": "49eccaf7",
   "metadata": {
    "scrolled": true
   },
   "outputs": [
    {
     "data": {
      "image/png": "[encoded data removed]",
      "text/plain": [
       "<Figure size 1080x216 with 1 Axes>"
      ]
     },
     "metadata": {
      "needs_background": "light"
     },
     "output_type": "display_data"
    },
    {
     "data": {
      "image/png": "[encoded data removed]",
      "text/plain": [
       "<Figure size 1080x216 with 1 Axes>"
      ]
     },
     "metadata": {
      "needs_background": "light"
     },
     "output_type": "display_data"
    },
    {
     "data": {
      "image/png": "[encoded data removed]",
      "text/plain": [
       "<Figure size 1080x216 with 1 Axes>"
      ]
     },
     "metadata": {
      "needs_background": "light"
     },
     "output_type": "display_data"
    },
    {
     "data": {
      "image/png": "[encoded data removed]",
      "text/plain": [
       "<Figure size 1080x216 with 1 Axes>"
      ]
     },
     "metadata": {
      "needs_background": "light"
     },
     "output_type": "display_data"
    },
    {
     "data": {
      "image/png": "[encoded data removed]",
      "text/plain": [
       "<Figure size 1080x216 with 1 Axes>"
      ]
     },
     "metadata": {
      "needs_background": "light"
     },
     "output_type": "display_data"
    },
    {
     "data": {
      "image/png": "[encoded data removed]",
      "text/plain": [
       "<Figure size 1080x216 with 1 Axes>"
      ]
     },
     "metadata": {
      "needs_background": "light"
     },
     "output_type": "display_data"
    },
    {
     "data": {
      "image/png": "[encoded data removed]",
      "text/plain": [
       "<Figure size 1080x216 with 1 Axes>"
      ]
     },
     "metadata": {
      "needs_background": "light"
     },
     "output_type": "display_data"
    },
    {
     "data": {
      "image/png": "[encoded data removed]",
      "text/plain": [
       "<Figure size 1080x216 with 1 Axes>"
      ]
     },
     "metadata": {
      "needs_background": "light"
     },
     "output_type": "display_data"
    },
    {
     "data": {
      "image/png": "[encoded data removed]",
      "text/plain": [
       "<Figure size 1080x216 with 1 Axes>"
      ]
     },
     "metadata": {
      "needs_background": "light"
     },
     "output_type": "display_data"
    },
    {
     "data": {
      "image/png": "[encoded data removed]",
      "text/plain": [
       "<Figure size 1080x216 with 1 Axes>"
      ]
     },
     "metadata": {
      "needs_background": "light"
     },
     "output_type": "display_data"
    },
    {
     "data": {
      "image/png": "[encoded data removed]",
      "text/plain": [
       "<Figure size 1080x216 with 1 Axes>"
      ]
     },
     "metadata": {
      "needs_background": "light"
     },
     "output_type": "display_data"
    }
   ],
   "source": [
    "for column in df.columns:\n",
    "    if df[column].dtype != 'object':\n",
    "        df.hist(column=column, figsize = (15,3))\n",
    "        plt.show()\n",
    "    else:\n",
    "        df.groupby (column)[column].count().plot(y=column, kind='bar', figsize = (15,3));\n",
    "        plt.show()"
   ]
  },
  {
   "cell_type": "markdown",
   "id": "c216ae03",
   "metadata": {},
   "source": [
    "Входные данные выглядят адекватно. При этом\n",
    "1) отмечается дисбаланс классов целевого признака (доля ушедших клиентов - около 20%)\n",
    "2) необходимо доп. исследование параметра tenure"
   ]
  },
  {
   "cell_type": "markdown",
   "id": "2352515e",
   "metadata": {},
   "source": [
    "Распределение tenure характеризуется относительно редкими значениями 0. Его необходимо исследовать дополнительно, тк это может помочь верно заполнить пропуски - возможно, есть основание присвоить пропущенным данным значение 0."
   ]
  },
  {
   "cell_type": "markdown",
   "id": "5860eb91",
   "metadata": {},
   "source": [
    "### Доп. исследование параметра tenure"
   ]
  },
  {
   "cell_type": "markdown",
   "id": "10415361",
   "metadata": {},
   "source": [
    "Сопоставим распределение других параметров при наличии и отсутствии значений в столбце tenure"
   ]
  },
  {
   "cell_type": "code",
   "execution_count": 9,
   "id": "0dab2b3b",
   "metadata": {
    "scrolled": false
   },
   "outputs": [
    {
     "data": {
      "image/png": "[encoded data removed]",
      "text/plain": [
       "<Figure size 1080x216 with 1 Axes>"
      ]
     },
     "metadata": {
      "needs_background": "light"
     },
     "output_type": "display_data"
    },
    {
     "data": {
      "image/png": "[encoded data removed]",
      "text/plain": [
       "<Figure size 1080x216 with 1 Axes>"
      ]
     },
     "metadata": {
      "needs_background": "light"
     },
     "output_type": "display_data"
    },
    {
     "data": {
      "image/png": "[encoded data removed]",
      "text/plain": [
       "<Figure size 1080x216 with 1 Axes>"
      ]
     },
     "metadata": {
      "needs_background": "light"
     },
     "output_type": "display_data"
    },
    {
     "data": {
      "image/png": "[encoded data removed]",
      "text/plain": [
       "<Figure size 1080x216 with 1 Axes>"
      ]
     },
     "metadata": {
      "needs_background": "light"
     },
     "output_type": "display_data"
    },
    {
     "data": {
      "image/png": "[encoded data removed]",
      "text/plain": [
       "<Figure size 1080x216 with 1 Axes>"
      ]
     },
     "metadata": {
      "needs_background": "light"
     },
     "output_type": "display_data"
    },
    {
     "data": {
      "image/png": "[encoded data removed]",
      "text/plain": [
       "<Figure size 1080x216 with 1 Axes>"
      ]
     },
     "metadata": {
      "needs_background": "light"
     },
     "output_type": "display_data"
    },
    {
     "data": {
      "image/png": "[encoded data removed]",
      "text/plain": [
       "<Figure size 1080x216 with 1 Axes>"
      ]
     },
     "metadata": {
      "needs_background": "light"
     },
     "output_type": "display_data"
    },
    {
     "data": {
      "image/png": "[encoded data removed]",
      "text/plain": [
       "<Figure size 1080x216 with 1 Axes>"
      ]
     },
     "metadata": {
      "needs_background": "light"
     },
     "output_type": "display_data"
    },
    {
     "data": {
      "image/png": "[encoded data removed]",
      "text/plain": [
       "<Figure size 1080x216 with 1 Axes>"
      ]
     },
     "metadata": {
      "needs_background": "light"
     },
     "output_type": "display_data"
    }
   ],
   "source": [
    "df2=df[df['tenure'].isna()]\n",
    "for column in df.columns:\n",
    "    if df[column].dtype != 'object':\n",
    "        ax=df2.hist(column=column, figsize = (15,3), density=True)\n",
    "        df.hist(column=column, figsize = (15,3), ax=ax, alpha=0.75, density=True, color = 'r')\n",
    "        plt.show()"
   ]
  },
  {
   "cell_type": "markdown",
   "id": "9855eb1f",
   "metadata": {},
   "source": [
    "Видно, что распределения близки"
   ]
  },
  {
   "cell_type": "markdown",
   "id": "af7c64e7",
   "metadata": {},
   "source": [
    "Из расчетов ниже видно, что:\n",
    "- Параметр принимает дискретное значение от 0 до 10, причем нулей почти троекратно меньше, чем других значений\n",
    "- Пропусков 900. Если все пропуски заполнить 0, это значительно изменит распределение"
   ]
  },
  {
   "cell_type": "code",
   "execution_count": 10,
   "id": "cb7797dc",
   "metadata": {
    "scrolled": true
   },
   "outputs": [
    {
     "data": {
      "text/plain": [
       "tenure\n",
       "0     382\n",
       "1     952\n",
       "2     950\n",
       "3     928\n",
       "4     885\n",
       "5     927\n",
       "6     881\n",
       "7     925\n",
       "8     933\n",
       "9     882\n",
       "10    446\n",
       "Name: tenure, dtype: int64"
      ]
     },
     "execution_count": 10,
     "metadata": {},
     "output_type": "execute_result"
    }
   ],
   "source": [
    "df.groupby('tenure')['tenure'].count()"
   ]
  },
  {
   "cell_type": "code",
   "execution_count": 11,
   "id": "270f425d",
   "metadata": {},
   "outputs": [
    {
     "data": {
      "text/plain": [
       "909"
      ]
     },
     "execution_count": 11,
     "metadata": {},
     "output_type": "execute_result"
    }
   ],
   "source": [
    "df['tenure'].isna().sum()"
   ]
  },
  {
   "cell_type": "markdown",
   "id": "4b0da6d8",
   "metadata": {},
   "source": [
    "- Согласно проведенному анализу оснований для присвоения пропущенным значениям столбца tenure значения 0 или другого отличного от медианы значения нет\n",
    "- В идеале, для принятия информированного решения необходимо вернуться к инженерам, подготовившим входные данные и уточнить причины отсутствия параметров, а также адекватность низкой частоты величины tenure 0 (действительно ли новые клиенты стали реже появляться в последний год?)\n",
    "- За неимением такой возможности в данной задаче заменяем пропущенные значения медианным"
   ]
  },
  {
   "cell_type": "code",
   "execution_count": 12,
   "id": "aac26e25",
   "metadata": {
    "scrolled": false
   },
   "outputs": [
    {
     "name": "stdout",
     "output_type": "stream",
     "text": [
      "0\n"
     ]
    },
    {
     "data": {
      "image/png": "[encoded data removed]",
      "text/plain": [
       "<Figure size 1080x216 with 1 Axes>"
      ]
     },
     "metadata": {
      "needs_background": "light"
     },
     "output_type": "display_data"
    }
   ],
   "source": [
    "df.loc[df['tenure'].isna(),'tenure']=df['tenure'].median();\n",
    "print(df['tenure'].isna().sum())\n",
    "df.hist(column='tenure', figsize = (15,3), density=True, color = 'r');"
   ]
  },
  {
   "cell_type": "markdown",
   "id": "59c822b6",
   "metadata": {},
   "source": [
    "\n",
    "<div class=\"alert alert-block alert-info\">\n",
    "<b>Совет:</b> Пропуски проанализированы и решение обработать их таким образом - допустимое . Но мне кажется, что так как природа пропусков неизвестна можно заполнить их случайными числами, чтобы не влиять на распределение, либо же их удалить.\n",
    "</div>\n"
   ]
  },
  {
   "cell_type": "markdown",
   "id": "aeda6e7b",
   "metadata": {},
   "source": [
    "<div class=\"alert alert-block alert-warning\">\n",
    "<b> Комментарий студента: </b>Тут, мне кажется, решение на выбор аналитика. Хотя, удалить эти столбцы - неплохой вариант, буду деражать его в уме в след. раз. Здесь решин не переделывать\n",
    "</div>"
   ]
  },
  {
   "cell_type": "markdown",
   "id": "c3e1af60",
   "metadata": {},
   "source": [
    "<div class=\"alert alert-block alert-success\">\n",
    "    \n",
    "<b>Успех[2]:</b> Это я больше делюсь своими мыслями, это никак не призыв к действию)\n",
    "</div>\n"
   ]
  },
  {
   "cell_type": "markdown",
   "id": "4c8ac449",
   "metadata": {},
   "source": [
    "### Кодировка категорийных признаков и проверка взаимозависимости признаков"
   ]
  },
  {
   "cell_type": "markdown",
   "id": "523bf7ec",
   "metadata": {},
   "source": [
    "- Для оценки взаимозависимости проведем кодировку категорийных признаков, однако, не будем при этом изменять основной dataframe\n",
    "- Кодировка и нормализация признаков будет сделана после раздления на выборки"
   ]
  },
  {
   "cell_type": "markdown",
   "id": "6b677d31",
   "metadata": {},
   "source": [
    "Функция для кодировки с использованием OHE. \n",
    "\n",
    "Предусмотрена опция делать fit на тренировчном сете, а считать на другом"
   ]
  },
  {
   "cell_type": "code",
   "execution_count": 13,
   "id": "02810981",
   "metadata": {},
   "outputs": [],
   "source": [
    "def one_hot_encode_columns(df_train, df_transform, target_cols, drop_first = True):   \n",
    "    df_processed = df_transform.copy()\n",
    "    df_processed.reset_index(inplace=True, drop=True)\n",
    "    \n",
    "    for target_col in target_cols:\n",
    "        try:\n",
    "            cat_cols_encoded = []\n",
    "\n",
    "            #имена новых столбцов\n",
    "            for cat in list(df_processed[target_col].unique()):\n",
    "                cat_cols_encoded.append('ohe_'+cat)\n",
    "\n",
    "            oh_encoder = OneHotEncoder(sparse=False)\n",
    "            oh_encoder.fit(df_train[[target_col]])\n",
    "            \n",
    "            #возвращаем трансформированные данные в формате датафрейма\n",
    "            df_enc = oh_encoder.transform(df_processed[[target_col]])            \n",
    "            df_enc = pd.DataFrame(df_enc, columns=cat_cols_encoded)\n",
    "\n",
    "            #убираем первый столбец вручную (избегаем dummy error)\n",
    "            if drop_first:\n",
    "                df_enc.drop(columns=df_enc.columns[0], axis=1, inplace=True)\n",
    "\n",
    "            #объединяем с основыным датафреймом\n",
    "            df_processed = df_processed.join(df_enc)\n",
    "\n",
    "            #убираем обработанный столбец\n",
    "            df_processed.drop(columns=target_col, axis=1, inplace=True)\n",
    "        except:\n",
    "            print(f'Ошибка при кодировании столбца {target_col}')\n",
    "            \n",
    "    return df_processed"
   ]
  },
  {
   "cell_type": "markdown",
   "id": "59fb1780",
   "metadata": {},
   "source": [
    "\n",
    "<div class=\"alert alert-block alert-info\">\n",
    "    \n",
    "<b>Совет:</b> У OneHotEncoder есть возможность сделать автоматически `drop='first'`\n",
    "</div>\n"
   ]
  },
  {
   "cell_type": "markdown",
   "id": "668be42b",
   "metadata": {},
   "source": [
    "<div class=\"alert alert-block alert-warning\">\n",
    "<b>Комментарий студента: </b> Честно крутил, пытался, но не получилось названия столбцов сохранить при этом правильные для вставки в исходный датафрейм. Надеюсь, нас позже научат делать предобработку через пайплайны и ColumnTransformer. Но пока написал свои функции, которые применяю ниже после разбиения на выборки\n",
    "</div>"
   ]
  },
  {
   "cell_type": "markdown",
   "id": "6777b717",
   "metadata": {},
   "source": [
    "<div class=\"alert alert-block alert-success\">\n",
    "    \n",
    "<b>Успех[2]:</b> Вот посомтри здесь https://colab.research.google.com/drive/1_gAMXcQKoCShB_l8FNtYEejMnosm9mvt?usp=sharing очень понятно и легко, думаю тебе будет полезно\n",
    "</div>\n"
   ]
  },
  {
   "cell_type": "markdown",
   "id": "8dba29ad",
   "metadata": {},
   "source": [
    "<div class=\"alert alert-block alert-warning\">\n",
    "<b>Комментарий студента: </b> То, что надо, спасибо большое.\n",
    "</div>"
   ]
  },
  {
   "cell_type": "markdown",
   "id": "59773f30",
   "metadata": {},
   "source": [
    "Заодно напишем фунцию кодирования методом Ordinal Encoding"
   ]
  },
  {
   "cell_type": "code",
   "execution_count": 14,
   "id": "b74bd2e6",
   "metadata": {},
   "outputs": [],
   "source": [
    "def ordinary_encode_columns(df_train, df_transform, target_cols):   \n",
    "    df_processed = df_transform.copy()\n",
    "    df_processed.reset_index(inplace=True, drop=True)\n",
    "    \n",
    "    for target_col in target_cols:\n",
    "        try:\n",
    "            oe_encoder = OrdinalEncoder()\n",
    "            oe_encoder.fit(df_train[[target_col]])\n",
    "            #возвращаем трансформированные данные в формате датафрейма\n",
    "            df_enc = oe_encoder.transform(df_transform[[target_col]])\n",
    "            df_enc = pd.DataFrame(df_enc, columns=['oe_'+target_col])\n",
    "            #объединяем с основыным датафреймом\n",
    "            df_processed = df_processed.join(df_enc)\n",
    "\n",
    "            #убираем обработанный столбец\n",
    "            df_processed.drop(columns=target_col, axis=1, inplace=True)\n",
    "        except:\n",
    "            print(f'Ошибка при кодировании столбца {target_col}')\n",
    "        print(oe_encoder.categories_[0])        \n",
    "    return df_processed"
   ]
  },
  {
   "cell_type": "markdown",
   "id": "6f8ba113",
   "metadata": {},
   "source": [
    "И (по аналогии) фунцию для трансформации данных"
   ]
  },
  {
   "cell_type": "code",
   "execution_count": 15,
   "id": "b3d6791f",
   "metadata": {},
   "outputs": [],
   "source": [
    "def transform_columns(df_train, df_transform, target_cols, scaler_type = 'StandardScaler'):\n",
    "    if scaler_type == 'MinMaxScaler':\n",
    "        scaler = MinMaxScaler()\n",
    "    elif scaler_type == 'StandardScaler':\n",
    "        scaler = StandardScaler()\n",
    "    scaler.fit(df_train[target_cols]) \n",
    "    df_transform[target_cols] = scaler.transform(df_transform[target_cols]) "
   ]
  },
  {
   "cell_type": "markdown",
   "id": "9058e1a7",
   "metadata": {},
   "source": [
    "\n",
    "<div class=\"alert alert-block alert-success\">\n",
    "<b>Успех:</b> Отлично, что препроцессоры обучаеются только на трейне\n",
    "</div>\n"
   ]
  },
  {
   "cell_type": "code",
   "execution_count": 16,
   "id": "8937057c",
   "metadata": {
    "scrolled": true
   },
   "outputs": [
    {
     "data": {
      "text/html": [
       "<div>\n",
       "<style scoped>\n",
       "    .dataframe tbody tr th:only-of-type {\n",
       "        vertical-align: middle;\n",
       "    }\n",
       "\n",
       "    .dataframe tbody tr th {\n",
       "        vertical-align: top;\n",
       "    }\n",
       "\n",
       "    .dataframe thead th {\n",
       "        text-align: right;\n",
       "    }\n",
       "</style>\n",
       "<table border=\"1\" class=\"dataframe\">\n",
       "  <thead>\n",
       "    <tr style=\"text-align: right;\">\n",
       "      <th></th>\n",
       "      <th>creditscore</th>\n",
       "      <th>age</th>\n",
       "      <th>tenure</th>\n",
       "      <th>balance</th>\n",
       "      <th>numofproducts</th>\n",
       "      <th>hascrcard</th>\n",
       "      <th>isactivemember</th>\n",
       "      <th>estimatedsalary</th>\n",
       "      <th>exited</th>\n",
       "      <th>ohe_Spain</th>\n",
       "      <th>ohe_Germany</th>\n",
       "      <th>ohe_Male</th>\n",
       "    </tr>\n",
       "  </thead>\n",
       "  <tbody>\n",
       "    <tr>\n",
       "      <th>0</th>\n",
       "      <td>619</td>\n",
       "      <td>42</td>\n",
       "      <td>2</td>\n",
       "      <td>0.00</td>\n",
       "      <td>1</td>\n",
       "      <td>1</td>\n",
       "      <td>1</td>\n",
       "      <td>101348.88</td>\n",
       "      <td>1</td>\n",
       "      <td>0.0</td>\n",
       "      <td>0.0</td>\n",
       "      <td>0.0</td>\n",
       "    </tr>\n",
       "    <tr>\n",
       "      <th>1</th>\n",
       "      <td>608</td>\n",
       "      <td>41</td>\n",
       "      <td>1</td>\n",
       "      <td>83807.86</td>\n",
       "      <td>1</td>\n",
       "      <td>0</td>\n",
       "      <td>1</td>\n",
       "      <td>112542.58</td>\n",
       "      <td>0</td>\n",
       "      <td>0.0</td>\n",
       "      <td>1.0</td>\n",
       "      <td>0.0</td>\n",
       "    </tr>\n",
       "    <tr>\n",
       "      <th>2</th>\n",
       "      <td>502</td>\n",
       "      <td>42</td>\n",
       "      <td>8</td>\n",
       "      <td>159660.80</td>\n",
       "      <td>3</td>\n",
       "      <td>1</td>\n",
       "      <td>0</td>\n",
       "      <td>113931.57</td>\n",
       "      <td>1</td>\n",
       "      <td>0.0</td>\n",
       "      <td>0.0</td>\n",
       "      <td>0.0</td>\n",
       "    </tr>\n",
       "    <tr>\n",
       "      <th>3</th>\n",
       "      <td>699</td>\n",
       "      <td>39</td>\n",
       "      <td>1</td>\n",
       "      <td>0.00</td>\n",
       "      <td>2</td>\n",
       "      <td>0</td>\n",
       "      <td>0</td>\n",
       "      <td>93826.63</td>\n",
       "      <td>0</td>\n",
       "      <td>0.0</td>\n",
       "      <td>0.0</td>\n",
       "      <td>0.0</td>\n",
       "    </tr>\n",
       "    <tr>\n",
       "      <th>4</th>\n",
       "      <td>850</td>\n",
       "      <td>43</td>\n",
       "      <td>2</td>\n",
       "      <td>125510.82</td>\n",
       "      <td>1</td>\n",
       "      <td>1</td>\n",
       "      <td>1</td>\n",
       "      <td>79084.10</td>\n",
       "      <td>0</td>\n",
       "      <td>0.0</td>\n",
       "      <td>1.0</td>\n",
       "      <td>0.0</td>\n",
       "    </tr>\n",
       "    <tr>\n",
       "      <th>...</th>\n",
       "      <td>...</td>\n",
       "      <td>...</td>\n",
       "      <td>...</td>\n",
       "      <td>...</td>\n",
       "      <td>...</td>\n",
       "      <td>...</td>\n",
       "      <td>...</td>\n",
       "      <td>...</td>\n",
       "      <td>...</td>\n",
       "      <td>...</td>\n",
       "      <td>...</td>\n",
       "      <td>...</td>\n",
       "    </tr>\n",
       "    <tr>\n",
       "      <th>9995</th>\n",
       "      <td>771</td>\n",
       "      <td>39</td>\n",
       "      <td>5</td>\n",
       "      <td>0.00</td>\n",
       "      <td>2</td>\n",
       "      <td>1</td>\n",
       "      <td>0</td>\n",
       "      <td>96270.64</td>\n",
       "      <td>0</td>\n",
       "      <td>0.0</td>\n",
       "      <td>0.0</td>\n",
       "      <td>1.0</td>\n",
       "    </tr>\n",
       "    <tr>\n",
       "      <th>9996</th>\n",
       "      <td>516</td>\n",
       "      <td>35</td>\n",
       "      <td>10</td>\n",
       "      <td>57369.61</td>\n",
       "      <td>1</td>\n",
       "      <td>1</td>\n",
       "      <td>1</td>\n",
       "      <td>101699.77</td>\n",
       "      <td>0</td>\n",
       "      <td>0.0</td>\n",
       "      <td>0.0</td>\n",
       "      <td>1.0</td>\n",
       "    </tr>\n",
       "    <tr>\n",
       "      <th>9997</th>\n",
       "      <td>709</td>\n",
       "      <td>36</td>\n",
       "      <td>7</td>\n",
       "      <td>0.00</td>\n",
       "      <td>1</td>\n",
       "      <td>0</td>\n",
       "      <td>1</td>\n",
       "      <td>42085.58</td>\n",
       "      <td>1</td>\n",
       "      <td>0.0</td>\n",
       "      <td>0.0</td>\n",
       "      <td>0.0</td>\n",
       "    </tr>\n",
       "    <tr>\n",
       "      <th>9998</th>\n",
       "      <td>772</td>\n",
       "      <td>42</td>\n",
       "      <td>3</td>\n",
       "      <td>75075.31</td>\n",
       "      <td>2</td>\n",
       "      <td>1</td>\n",
       "      <td>0</td>\n",
       "      <td>92888.52</td>\n",
       "      <td>1</td>\n",
       "      <td>1.0</td>\n",
       "      <td>0.0</td>\n",
       "      <td>1.0</td>\n",
       "    </tr>\n",
       "    <tr>\n",
       "      <th>9999</th>\n",
       "      <td>792</td>\n",
       "      <td>28</td>\n",
       "      <td>5</td>\n",
       "      <td>130142.79</td>\n",
       "      <td>1</td>\n",
       "      <td>1</td>\n",
       "      <td>0</td>\n",
       "      <td>38190.78</td>\n",
       "      <td>0</td>\n",
       "      <td>0.0</td>\n",
       "      <td>0.0</td>\n",
       "      <td>0.0</td>\n",
       "    </tr>\n",
       "  </tbody>\n",
       "</table>\n",
       "<p>10000 rows × 12 columns</p>\n",
       "</div>"
      ],
      "text/plain": [
       "      creditscore  age  tenure    balance  numofproducts  hascrcard  \\\n",
       "0             619   42       2       0.00              1          1   \n",
       "1             608   41       1   83807.86              1          0   \n",
       "2             502   42       8  159660.80              3          1   \n",
       "3             699   39       1       0.00              2          0   \n",
       "4             850   43       2  125510.82              1          1   \n",
       "...           ...  ...     ...        ...            ...        ...   \n",
       "9995          771   39       5       0.00              2          1   \n",
       "9996          516   35      10   57369.61              1          1   \n",
       "9997          709   36       7       0.00              1          0   \n",
       "9998          772   42       3   75075.31              2          1   \n",
       "9999          792   28       5  130142.79              1          1   \n",
       "\n",
       "      isactivemember  estimatedsalary  exited  ohe_Spain  ohe_Germany  \\\n",
       "0                  1        101348.88       1        0.0          0.0   \n",
       "1                  1        112542.58       0        0.0          1.0   \n",
       "2                  0        113931.57       1        0.0          0.0   \n",
       "3                  0         93826.63       0        0.0          0.0   \n",
       "4                  1         79084.10       0        0.0          1.0   \n",
       "...              ...              ...     ...        ...          ...   \n",
       "9995               0         96270.64       0        0.0          0.0   \n",
       "9996               1        101699.77       0        0.0          0.0   \n",
       "9997               1         42085.58       1        0.0          0.0   \n",
       "9998               0         92888.52       1        1.0          0.0   \n",
       "9999               0         38190.78       0        0.0          0.0   \n",
       "\n",
       "      ohe_Male  \n",
       "0          0.0  \n",
       "1          0.0  \n",
       "2          0.0  \n",
       "3          0.0  \n",
       "4          0.0  \n",
       "...        ...  \n",
       "9995       1.0  \n",
       "9996       1.0  \n",
       "9997       0.0  \n",
       "9998       1.0  \n",
       "9999       0.0  \n",
       "\n",
       "[10000 rows x 12 columns]"
      ]
     },
     "execution_count": 16,
     "metadata": {},
     "output_type": "execute_result"
    }
   ],
   "source": [
    "df_temp = one_hot_encode_columns (df_train=df, df_transform=df, target_cols= ['geography', 'gender'])\n",
    "df_temp"
   ]
  },
  {
   "cell_type": "code",
   "execution_count": 17,
   "id": "a91c1195",
   "metadata": {},
   "outputs": [
    {
     "data": {
      "image/png": "[encoded data removed]",
      "text/plain": [
       "<Figure size 1080x936 with 2 Axes>"
      ]
     },
     "metadata": {
      "needs_background": "light"
     },
     "output_type": "display_data"
    }
   ],
   "source": [
    "plt.figure(figsize=(15, 13));\n",
    "sns.heatmap(df_temp.drop(columns=['hascrcard','isactivemember','isactivemember','exited','ohe_Spain','ohe_Germany','ohe_Male'])\n",
    "            .corr(), annot=True);"
   ]
  },
  {
   "cell_type": "markdown",
   "id": "d74afbd1",
   "metadata": {},
   "source": [
    "<div class=\"alert alert-block alert-info\">\n",
    "<b>Совет:</b>  Напомню, что корреляции пирсона/спирмена только для данных в количественной шкале.\n",
    "</div>\n"
   ]
  },
  {
   "cell_type": "markdown",
   "id": "64ba113a",
   "metadata": {},
   "source": [
    "<div class=\"alert alert-block alert-warning\">\n",
    "<b>Ты имеешь ввиду, что закодированные категориальные признаки надо убрать, верно? Дискретные значения типа isactivemember тоже убираем?  </b>\n",
    "</div>"
   ]
  },
  {
   "cell_type": "markdown",
   "id": "172e33a0",
   "metadata": {},
   "source": [
    "<div class=\"alert alert-block alert-success\">\n",
    "    \n",
    "<b>Успех[2]:</b> Абсолютно, корреляцию между возрастом и is_exited например не посмотреть\n",
    "</div>\n"
   ]
  },
  {
   "cell_type": "markdown",
   "id": "29c440ab",
   "metadata": {},
   "source": [
    "<div class=\"alert alert-block alert-info\">\n",
    "<b>Совет[2]:<b> Советую обратить на инструмент <a href=\"https://phik.readthedocs.io/en/latest/\" >phik</a>, который помогает устанавливать связи (не только линейные) между факторами (и не только между количественными)\n",
    "</div>\n"
   ]
  },
  {
   "cell_type": "markdown",
   "id": "d6b3435a",
   "metadata": {},
   "source": [
    "<div class=\"alert alert-block alert-warning\">\n",
    "<b>Изменения:</b> Убрал дискретные и категориальные значения для построения heatmap\n",
    "</div>"
   ]
  },
  {
   "cell_type": "markdown",
   "id": "9d51fa16",
   "metadata": {},
   "source": [
    "Не наблюдается высокой (>0.5) степени взаимозависимости между признаками"
   ]
  },
  {
   "cell_type": "markdown",
   "id": "b011f884",
   "metadata": {},
   "source": [
    "### Выводы по подготовке данных"
   ]
  },
  {
   "cell_type": "markdown",
   "id": "3fc0e11e",
   "metadata": {},
   "source": [
    "- Данные полные за исключением параметра tenure (сколько лет человек является клиентом банка), для которого отсутствуют 10% значений\n",
    "- Типы данных адекватны, однако столбцу tenure следует присвоить целочисленный тип\n",
    "- Столбцы, которые не нужны для построения модели, убраны. Имена остальных столбцов приведены к стандартному виду\n",
    "- Визуализация распределения входные данные подтверждает их адекватность. При этом\n",
    "    - отмечается дисбаланс классов целевого признака (доля ушедших клиентов - около 20%)\n",
    "    - распределение параметра tenure исследовано дополнительно\n",
    "- Согласно проведенному анализу оснований для присвоения пропущенным значениям столбца tenure значения 0 или другого отличного от медианы значения нет. В идеале, для принятия информированного решения необходимо вернуться к инженерам, подготовившим входные данные и уточнить причины отсутствия параметров, а также адекватность низкой частоты величины tenure 0. За неимением такой возможности в данной задаче пропущенные значения заменены медианным\n",
    "- Категорийные признаки (gender, geography) будут перекодированы в численные на следующем этапе\n",
    "- Проверка мультиколлениарности не выявила существенно взаимозависимых признаков\n",
    "- Масштабирование (scaling) будем проводить на тренировочной выборке ниже, проверяя, помогает ли это улучшить качество модели "
   ]
  },
  {
   "cell_type": "markdown",
   "id": "e88178ec",
   "metadata": {},
   "source": [
    "<div class=\"alert alert-block alert-info\">\n",
    "<b>Совет:</b>  Советую обратить внимание на библиотеки sweetviz и pandas_profiling помогут в проведении более тщательного EDA анализа. Исследовательский анализ можно делать и с помощью ручного вызова функций дефолтных библиотек. Данные библиотеки хороши для максимизации комфорта презентации результатов анализа бизнес-пользователям. \n",
    "    \n",
    "Очень просты в использоовании, на вход кладется датафрейм: pandas_profiling.ProfileReport(df) \n",
    "</div>\n"
   ]
  },
  {
   "cell_type": "markdown",
   "id": "206c8f1d",
   "metadata": {},
   "source": [
    "<div class=\"alert alert-block alert-warning\">\n",
    "<b>Комментарий студента:</b> Люман, записал, спасибо. Поизучаю.\n",
    "</div>"
   ]
  },
  {
   "cell_type": "markdown",
   "id": "46f18c1b",
   "metadata": {},
   "source": [
    "## Исследование задачи"
   ]
  },
  {
   "cell_type": "markdown",
   "id": "1fa6b824",
   "metadata": {},
   "source": [
    "### Баланс классов"
   ]
  },
  {
   "cell_type": "code",
   "execution_count": 18,
   "id": "845de53b",
   "metadata": {},
   "outputs": [
    {
     "data": {
      "image/png": "[encoded data removed]",
      "text/plain": [
       "<Figure size 1080x216 with 1 Axes>"
      ]
     },
     "metadata": {
      "needs_background": "light"
     },
     "output_type": "display_data"
    }
   ],
   "source": [
    "(df.groupby('exited')['exited'].count()/df.shape[0]).plot(kind='bar', figsize = (15,3));"
   ]
  },
  {
   "cell_type": "markdown",
   "id": "3271f4ab",
   "metadata": {},
   "source": [
    "Классы несбалансированы. Положительный класс встречается в 20% объектов"
   ]
  },
  {
   "cell_type": "markdown",
   "id": "e916f894",
   "metadata": {},
   "source": [
    "<div class=\"alert alert-block alert-success\">\n",
    "<b>Успех:</b> дисбаланс обнаружен\n",
    "</div>\n"
   ]
  },
  {
   "cell_type": "markdown",
   "id": "8f76b56e",
   "metadata": {},
   "source": [
    "### Оптимизация моделей без учета дисбаланса"
   ]
  },
  {
   "cell_type": "markdown",
   "id": "c6c2a726",
   "metadata": {},
   "source": [
    "#### Подготовка выборок"
   ]
  },
  {
   "cell_type": "markdown",
   "id": "a024578c",
   "metadata": {},
   "source": [
    "Готовим выборки train, valid и test"
   ]
  },
  {
   "cell_type": "code",
   "execution_count": 19,
   "id": "82df78d0",
   "metadata": {},
   "outputs": [],
   "source": [
    "features=df.drop(['exited'], axis=1)\n",
    "target=df['exited']\n",
    "\n",
    "features_train, features_test, target_train, target_test = train_test_split (features, target, test_size=0.2, random_state=12345)\n",
    "features_train, features_valid, target_train, target_valid = train_test_split (features_train, target_train, test_size=0.25, random_state=12345)"
   ]
  },
  {
   "cell_type": "markdown",
   "id": "c43b437b",
   "metadata": {},
   "source": [
    "#### Класс для работы с моделями"
   ]
  },
  {
   "cell_type": "markdown",
   "id": "883cb40c",
   "metadata": {},
   "source": [
    "Создаем класс для работы с моделями: \n",
    "- выбор типа модели и гиперпараметров\n",
    "- оптимизация с использованием gridsearchcv\n",
    "- расчет метрик классификации"
   ]
  },
  {
   "cell_type": "code",
   "execution_count": 20,
   "id": "645c833a",
   "metadata": {},
   "outputs": [],
   "source": [
    "from sklearn.model_selection import ParameterGrid"
   ]
  },
  {
   "cell_type": "code",
   "execution_count": 21,
   "id": "0b150510",
   "metadata": {},
   "outputs": [],
   "source": [
    "class ml_model:\n",
    "     \n",
    "    #инициализируем класс, задавая тип модели, диапазон параметров модели (для оптимизации) и входные данные (features, targets)\n",
    "    def __init__(self, model, params, \n",
    "                 features_train, target_train, features_valid, target_valid,\n",
    "                 random_state=12345, use_cv = True):\n",
    "        self.model = model  \n",
    "        self.params = params  \n",
    "        self.features_train = features_train\n",
    "        self.target_train = target_train\n",
    "        self.features_valid = features_valid\n",
    "        self.target_valid = target_valid        \n",
    "        self.random_state = random_state\n",
    "        \n",
    "        #Аттрибуты для прогнозных результатов для валидационной и тестовой выборки\n",
    "        self.probabilities_valid = None\n",
    "        self.predictions_valid = None\n",
    "        \n",
    "        #Аттрибут для хранения оптимизированной модели \n",
    "        self.optimized_model = None\n",
    "\n",
    "        #Оптимизируем гиперпараметры в рамках заданой сетки во время инициализации объекта (по умолчанию - с GridSearchCV)\n",
    "        if use_cv:\n",
    "            self.create_optimized_model()\n",
    "        else:\n",
    "            self.create_optimized_model_no_cv()\n",
    "        \n",
    "                   \n",
    "    #функция для оптимизации модели методом GridSearchCV\n",
    "    def create_optimized_model(self):\n",
    "        #максимизируем метрику f1\n",
    "        clf = GridSearchCV(self.model,\n",
    "                           param_grid = self.params,\n",
    "                           scoring='f1',\n",
    "                           cv=None) #default 5 fold\n",
    "        \n",
    "        #итерируем на тренировочном датасете\n",
    "        clf.fit(self.features_train, self.target_train)\n",
    "        \n",
    "        #выводим результаты                \n",
    "        print(\"Tuned Hyperparameters :\", clf.best_params_)\n",
    "        print(\"f1_score на тренировочной выборке:\",clf.best_score_)\n",
    "        \n",
    "        #сохраняем модель и обучаем на тренировочном сете\n",
    "        self.optimized_model = clf.best_estimator_\n",
    "        self.optimized_model.fit(self.features_train, self.target_train)\n",
    "        \n",
    "        #с использованием оптимизированной модели делаем прогноз признаков и вероятности признаков на валидационной выборке \n",
    "        self.probabilities_valid = self.optimized_model.predict_proba(self.features_valid)\n",
    "        self.predictions_valid = self.optimized_model.predict(self.features_valid)\n",
    "                                     \n",
    "    #функция для оптимизации модели простым перебором по сетке без кросс-валидации\n",
    "    #NB! Тип модели задан жестко, не нашел пока, как сделать по другому\n",
    "    def create_optimized_model_no_cv(self):\n",
    "        max_f1 = -999\n",
    "        best_model = None\n",
    "        best_params = None\n",
    "    \n",
    "        grid = model_selection.ParameterGrid(self.params)\n",
    "\n",
    "        for param in grid:\n",
    "            model_version = ensemble.RandomForestClassifier(**param)  # unpacking param which is a dictionary\n",
    "            model_version.fit(self.features_train, self.target_train)\n",
    "            model_version_f1 = f1_score(self.target_valid, model_version.predict(self.features_valid)) # здесь есть ньюанс - проверять на train или valid\n",
    "            if model_version_f1 > max_f1:\n",
    "                max_f1 = model_version_f1\n",
    "                best_model = model_version\n",
    "                best_params = param\n",
    "        \n",
    "        #выводим результаты                \n",
    "        print(\"Использован перебор по ParameterGrid без кросс-валидации\") \n",
    "        print(\"Tuned Hyperparameters :\", best_params)        \n",
    "        print(\"f1_score на валидационной выборке:\",max_f1)\n",
    "        \n",
    "        #сохраняем модель                            \n",
    "        self.optimized_model = best_model\n",
    "        \n",
    "        #с использованием оптимизированной модели делаем прогноз признаков и вероятности признаков на валидационной выборке \n",
    "        self.probabilities_valid = self.optimized_model.predict_proba(self.features_valid)\n",
    "        self.predictions_valid = self.optimized_model.predict(self.features_valid)        \n",
    "\n",
    "    #функция для расчета f1_score\n",
    "    def f1_score (self):\n",
    "        print(f' f1_score на валидационной выборке: {f1_score(self.target_valid, self.optimized_model.predict(self.features_valid)) } ')\n",
    "                     \n",
    "    #функция для построения pr-curve и вывода сопутствующих метрик\n",
    "    def pr_curve (self):\n",
    "        precision, recall, thresholds = precision_recall_curve(self.target_valid, self.probabilities_valid[:, 1])\n",
    "        plt.figure(figsize=(15, 6))\n",
    "        plt.step(recall, precision, where='post')\n",
    "        plt.xlabel('Recall')\n",
    "        plt.ylabel('Precision')\n",
    "        plt.ylim([0.0, 1.05])\n",
    "        plt.xlim([0.0, 1.0])\n",
    "        plt.title('P-R Curve')\n",
    "        plt.show()\n",
    "        print(f'Recall score: {recall_score(self.target_valid, self.predictions_valid)}')\n",
    "        print(f'Precision score: {precision_score(self.target_valid, self.predictions_valid)}')\n",
    "        print(f'f1 score: {f1_score(self.target_valid, self.predictions_valid)}')            \n",
    "            \n",
    "    #функция для построения roc-curve и вывода сопутствующих метрик\n",
    "    def roc_curve (self):\n",
    "        fpr, tpr, thresholds = roc_curve(self.target_valid, self.probabilities_valid[:, 1])\n",
    "        plt.figure(figsize=(15, 6))\n",
    "        plt.step(fpr, tpr)\n",
    "        plt.xlabel('FPR')\n",
    "        plt.ylabel('TPR')\n",
    "        plt.ylim([0.0, 1.05])\n",
    "        plt.xlim([0.0, 1.0])            \n",
    "        plt.title('ROC Curve')\n",
    "        plt.show()\n",
    "        print(f'AUC/ROC: {roc_auc_score(self.target_valid, self.probabilities_valid[:,1])}')                      \n",
    "        #print(f'AUC/ROC: {roc_auc_score(self.target_valid, self.predictions_valid)}')              "
   ]
  },
  {
   "cell_type": "markdown",
   "id": "f53999f3",
   "metadata": {},
   "source": [
    "<div class=\"alert alert-block alert-success\">\n",
    "<b>Успех:</b> Интересный помощник, НО\n",
    "</div>\n"
   ]
  },
  {
   "cell_type": "markdown",
   "id": "81c4be22",
   "metadata": {},
   "source": [
    "<div class=\"alert alert-block alert-danger\">\n",
    "<b>Ошибка:</b>  \n",
    "    \n",
    "Кросс-валидационные методы тут плохой выбор, так как они не совместимы с методами для борьбы с дисбалансом upsample/downsample.\n",
    "    \n",
    "Потому что внутри кросс-валидации происходит разбиение данных на трейн/валид. \n",
    "    \n",
    "И если на вход подаются upsampled/downsampled данные - тогда валидационные  получаются сбалансированными (что отличается от нашей текущей задачи) - это тем самым ведет к смещенным оценкам.\n",
    "    \n",
    "И + кроме того в случае upsampled помимо сбалансирвованных данных, тренировочная и валидация могут получить одни и те же данные, что являются еще более грубой ошибкой.\n",
    "    \n",
    "    \n",
    "\n",
    "</div>"
   ]
  },
  {
   "cell_type": "markdown",
   "id": "064f620c",
   "metadata": {},
   "source": [
    "<div class=\"alert alert-block alert-warning\">\n",
    "<b>Комментарий студента:</b> \n",
    "    \n",
    "    Люман, немного запутался сначала - ты имел ввилу валид на кросс-валидационных подвыборках трейна, а я думал, что ты про исходный валид. Но потом дошло. Мой вывод такой из этого: \n",
    "    - мой подход c GridSearchCV работает на исходных выборках, при даунсемплинге и при использовании class_weight\n",
    "    - Единственная проблема возникает при ручном добавлении дубликатов в выборку, тогда f1 искажается и gridsearchcv работает некорректно.\n",
    "       \n",
    "    Чтобы этого избежать, я добавил в класс выше функцию простого перебора гиперпараметров по grid_params без кросс-валидации (create_optimized_model_no_cv). Её использую для случая с апсемплингом. Но и в этом случае модель на тренировочной выборке всё равно дает очень высокий f1 - не пойму в чем дело, но теперь уже не в кросс-валидации.\n",
    "    \n",
    "    Вопрос - если есть class_weight, нужен ли вообще ручной апсемплинг? Зачем этим заниматься? Пошерстил интернет - такое ощущение, что используют только GridSearchCV или другие алгоритмы с кросс-валидацией, готовых альтернативных алгоритмов без CV не нашел.\n",
    "    \n",
    "    \n",
    "</div>"
   ]
  },
  {
   "cell_type": "markdown",
   "id": "ecf6ba79",
   "metadata": {},
   "source": [
    "<div class=\"alert alert-block alert-warning\">\n",
    "<b>Изменения:</b> Добавил в класс выше функцию простого перебора гиперпараметров по grid_params без кросс-валидации (create_optimized_model_no_cv).\n",
    "</div>"
   ]
  },
  {
   "cell_type": "markdown",
   "id": "06dcf219",
   "metadata": {},
   "source": [
    "<div class=\"alert alert-block alert-danger\">\n",
    "    \n",
    "<b>Ответ[2]:</b>  `print(\"f1_score на тестовой выборке:\",max_f1)` - разве это тестовая?\n",
    "    \n",
    "    \n",
    "- Почему ты подбираешь гиперпараметры циклом, замеряя оценку на тренировочной? На тренировочных данных - метрика всегда будет высокая, модель же 'заучивает' данные, которые мы ей на вход подаем, поэтому и принято использовать кросс-валидационные методы или валидационную выборку. Но так как с первым здесь мы испытываем сложности, то самый лучший вариант будет использовать валидационную выборку. \n",
    "    \n",
    "- gridsearchcv с class_weight работает, а с downsampled нет.  \n",
    "Повторюсь downsampled сделает данные сбалансированные, и тогда оценки на кросс-валидации это оценки на сбалансированных данных. \n",
    "Когда наша задача предсказывать адекватно на несбалансированных данных. Мы можем балансировать данные только для того, чтобы обучать модель, но все предсказания должны быть на несбалансированных. \n",
    "    \n",
    "- Не нужен)  Зачем занимается не знаю...\n",
    "    \n",
    "GridSearchCV нормальный инструмент и вместе с PipeLine и например методом для борьбы с дисбалансом SMOTE - вообще никаких проблем не испытает. Внутри кросс-валидации сблансирован будет только трейн, внутрення валидационная выборка останется исходной.    \n",
    "\n",
    "</div>"
   ]
  },
  {
   "cell_type": "markdown",
   "id": "e43b1529",
   "metadata": {},
   "source": [
    "<div class=\"alert alert-block alert-warning\">\n",
    "<b>Комментарий студента: </b>  \n",
    "</div>\n",
    "\n",
    "<div class=\"alert alert-block alert-warning\">\n",
    "Извиняюсь, я тебя запутал с самого начала кривым принтом - сам только сейчас это заметил. Написал в принте по результатам gridsearchcv про \"тестовую\", но, естественно, имел ввиду тренировочную. Никакой тестовой в классе нет: только train и valid. Я это поправил. Моя логика  была такая:\n",
    "    \n",
    "- На этапе обучения я использовал ТОЛЬКО трейн: его оптимизировал с кросс-валидацией (без использования valid) либо перебором на всем трейне без кросс-валидации (добавил, после твоего первого комментария)\n",
    "- При этом метрики (в данном случае f1) я оптимизирую на трейне, а потом проверяю перфоманс модели на valid (функция f1_score)\n",
    "- Таким образом, я балансирую данные только при обучении, предсказания делаю на нетронутых (кроме трансформаций) valid и (на последнем этапе) test. В таких предпосылках, как я понимаю, даже использование кросс-валидации не беда? Прогноз ведь я делаю на нетронутых балансировкой valid и test.\n",
    "    \n",
    "Как я понял, ты предлагаешь в переборе без cross-validation (create_optimized_model_no_cv) делать fit на трейне, а метрику на valid вычислять? Это немного противоречит моей логике, которую я выше описал - я предполагаю при обучении на трейне, что у меня никакого valid нет. На valid только тестирую модель. Сейчас сделал так, как ты говоришь - fit на трейне, f1 - на valid.\n",
    "    \n",
    "</div>"
   ]
  },
  {
   "cell_type": "markdown",
   "id": "daf2aa01",
   "metadata": {},
   "source": [
    "<div class=\"alert alert-block alert-warning\">\n",
    "<b>Изменения:</b>     \n",
    "</div>\n",
    "\n",
    "- Исправил кривой print, который выводит метрику f1 на **тренировочной** выборке по окончании оптимизации модели с использованием кросс-валидации\n",
    "- Поправил create_optimized_model_no_cv - fit на трейне, f1 - на valid\n",
    "- И для upsamling, и для downsampling использую create_optimized_model_no_cv(без кросс-валидации)\n",
    "- Поправил расчет метрики AUC_ROC (по вероятностям единицы)"
   ]
  },
  {
   "cell_type": "markdown",
   "id": "370988ab",
   "metadata": {},
   "source": [
    "<div class=\"alert alert-block alert-success\">\n",
    "    \n",
    "<b>Успех[3]:</b>  Все корректно теперь.\n",
    "    \n",
    "По поводу  твоих мыслей `я предполагаю при обучении на трейне, что у меня никакого valid нет. На valid только тестирую модель.` - а зачем так делать, ведь у нас эту роль выполняет тестовая выборка, и будем мы ее использовать в конце работы, а валидационная, как раз-таки служит для того, чтобы настроить модель считая на ней оценки. А ты пытался на валидационную переложить ответственность тестовой)\n",
    "</div>\n"
   ]
  },
  {
   "cell_type": "markdown",
   "id": "3cc7e298",
   "metadata": {},
   "source": [
    "### Логистическая регрессия"
   ]
  },
  {
   "cell_type": "markdown",
   "id": "26f8be40",
   "metadata": {},
   "source": [
    "Для логистической регрессии кодируем категориальные признаки через OHE:\n",
    "- Для этого используем ранее созданную функцию one_hot_encode_columns\n",
    "- Тренируем кодировщик на train, применяем преобразование ко всем выборкам"
   ]
  },
  {
   "cell_type": "code",
   "execution_count": 22,
   "id": "86f3134e",
   "metadata": {},
   "outputs": [],
   "source": [
    "features_train_lr = one_hot_encode_columns (df_train=features_train, df_transform=features_train, target_cols= ['geography', 'gender'])\n",
    "features_valid_lr = one_hot_encode_columns (df_train=features_train, df_transform=features_valid, target_cols= ['geography', 'gender'])\n",
    "features_test_lr = one_hot_encode_columns (df_train=features_train, df_transform=features_test, target_cols= ['geography', 'gender'])"
   ]
  },
  {
   "cell_type": "markdown",
   "id": "7d3ab8a3",
   "metadata": {},
   "source": [
    "Нормализуем данные"
   ]
  },
  {
   "cell_type": "code",
   "execution_count": 23,
   "id": "008e168f",
   "metadata": {},
   "outputs": [],
   "source": [
    "transform_columns(features_train, features_train_lr, ['creditscore', 'age', 'tenure', 'balance', 'numofproducts', 'estimatedsalary'], 'StandardScaler')\n",
    "transform_columns(features_train, features_valid_lr, ['creditscore', 'age', 'tenure', 'balance', 'numofproducts', 'estimatedsalary'], 'StandardScaler')\n",
    "transform_columns(features_train, features_test_lr, ['creditscore', 'age', 'tenure', 'balance', 'numofproducts', 'estimatedsalary'], 'StandardScaler')"
   ]
  },
  {
   "cell_type": "code",
   "execution_count": 24,
   "id": "4c9120e3",
   "metadata": {},
   "outputs": [
    {
     "data": {
      "text/html": [
       "<div>\n",
       "<style scoped>\n",
       "    .dataframe tbody tr th:only-of-type {\n",
       "        vertical-align: middle;\n",
       "    }\n",
       "\n",
       "    .dataframe tbody tr th {\n",
       "        vertical-align: top;\n",
       "    }\n",
       "\n",
       "    .dataframe thead th {\n",
       "        text-align: right;\n",
       "    }\n",
       "</style>\n",
       "<table border=\"1\" class=\"dataframe\">\n",
       "  <thead>\n",
       "    <tr style=\"text-align: right;\">\n",
       "      <th></th>\n",
       "      <th>creditscore</th>\n",
       "      <th>age</th>\n",
       "      <th>tenure</th>\n",
       "      <th>balance</th>\n",
       "      <th>numofproducts</th>\n",
       "      <th>hascrcard</th>\n",
       "      <th>isactivemember</th>\n",
       "      <th>estimatedsalary</th>\n",
       "      <th>ohe_Germany</th>\n",
       "      <th>ohe_Spain</th>\n",
       "      <th>ohe_Male</th>\n",
       "    </tr>\n",
       "  </thead>\n",
       "  <tbody>\n",
       "    <tr>\n",
       "      <th>0</th>\n",
       "      <td>-0.134048</td>\n",
       "      <td>-0.078068</td>\n",
       "      <td>-0.369113</td>\n",
       "      <td>0.076163</td>\n",
       "      <td>0.816929</td>\n",
       "      <td>0</td>\n",
       "      <td>1</td>\n",
       "      <td>0.331571</td>\n",
       "      <td>0.0</td>\n",
       "      <td>0.0</td>\n",
       "      <td>0.0</td>\n",
       "    </tr>\n",
       "    <tr>\n",
       "      <th>1</th>\n",
       "      <td>-1.010798</td>\n",
       "      <td>0.494555</td>\n",
       "      <td>-0.007415</td>\n",
       "      <td>0.136391</td>\n",
       "      <td>-0.896909</td>\n",
       "      <td>1</td>\n",
       "      <td>1</td>\n",
       "      <td>-0.727858</td>\n",
       "      <td>0.0</td>\n",
       "      <td>0.0</td>\n",
       "      <td>1.0</td>\n",
       "    </tr>\n",
       "    <tr>\n",
       "      <th>2</th>\n",
       "      <td>0.639554</td>\n",
       "      <td>1.353490</td>\n",
       "      <td>-1.454209</td>\n",
       "      <td>0.358435</td>\n",
       "      <td>-0.896909</td>\n",
       "      <td>1</td>\n",
       "      <td>1</td>\n",
       "      <td>-0.477006</td>\n",
       "      <td>1.0</td>\n",
       "      <td>0.0</td>\n",
       "      <td>1.0</td>\n",
       "    </tr>\n",
       "    <tr>\n",
       "      <th>3</th>\n",
       "      <td>-0.990168</td>\n",
       "      <td>2.116987</td>\n",
       "      <td>-1.092511</td>\n",
       "      <td>0.651725</td>\n",
       "      <td>-0.896909</td>\n",
       "      <td>1</td>\n",
       "      <td>1</td>\n",
       "      <td>-0.100232</td>\n",
       "      <td>0.0</td>\n",
       "      <td>0.0</td>\n",
       "      <td>0.0</td>\n",
       "    </tr>\n",
       "    <tr>\n",
       "      <th>4</th>\n",
       "      <td>0.567351</td>\n",
       "      <td>0.685430</td>\n",
       "      <td>0.715982</td>\n",
       "      <td>0.813110</td>\n",
       "      <td>0.816929</td>\n",
       "      <td>1</td>\n",
       "      <td>1</td>\n",
       "      <td>0.801922</td>\n",
       "      <td>0.0</td>\n",
       "      <td>0.0</td>\n",
       "      <td>0.0</td>\n",
       "    </tr>\n",
       "    <tr>\n",
       "      <th>...</th>\n",
       "      <td>...</td>\n",
       "      <td>...</td>\n",
       "      <td>...</td>\n",
       "      <td>...</td>\n",
       "      <td>...</td>\n",
       "      <td>...</td>\n",
       "      <td>...</td>\n",
       "      <td>...</td>\n",
       "      <td>...</td>\n",
       "      <td>...</td>\n",
       "      <td>...</td>\n",
       "    </tr>\n",
       "    <tr>\n",
       "      <th>5995</th>\n",
       "      <td>-0.618839</td>\n",
       "      <td>-0.268942</td>\n",
       "      <td>1.801078</td>\n",
       "      <td>0.744283</td>\n",
       "      <td>-0.896909</td>\n",
       "      <td>0</td>\n",
       "      <td>1</td>\n",
       "      <td>0.803658</td>\n",
       "      <td>1.0</td>\n",
       "      <td>0.0</td>\n",
       "      <td>1.0</td>\n",
       "    </tr>\n",
       "    <tr>\n",
       "      <th>5996</th>\n",
       "      <td>1.743227</td>\n",
       "      <td>-1.032439</td>\n",
       "      <td>1.077681</td>\n",
       "      <td>-1.232442</td>\n",
       "      <td>-0.896909</td>\n",
       "      <td>1</td>\n",
       "      <td>1</td>\n",
       "      <td>-1.098797</td>\n",
       "      <td>0.0</td>\n",
       "      <td>0.0</td>\n",
       "      <td>0.0</td>\n",
       "    </tr>\n",
       "    <tr>\n",
       "      <th>5997</th>\n",
       "      <td>0.567351</td>\n",
       "      <td>-0.650691</td>\n",
       "      <td>1.439380</td>\n",
       "      <td>-1.232442</td>\n",
       "      <td>0.816929</td>\n",
       "      <td>0</td>\n",
       "      <td>0</td>\n",
       "      <td>-1.202257</td>\n",
       "      <td>0.0</td>\n",
       "      <td>0.0</td>\n",
       "      <td>1.0</td>\n",
       "    </tr>\n",
       "    <tr>\n",
       "      <th>5998</th>\n",
       "      <td>-0.412545</td>\n",
       "      <td>0.494555</td>\n",
       "      <td>-1.092511</td>\n",
       "      <td>0.615524</td>\n",
       "      <td>-0.896909</td>\n",
       "      <td>1</td>\n",
       "      <td>1</td>\n",
       "      <td>-0.038931</td>\n",
       "      <td>1.0</td>\n",
       "      <td>0.0</td>\n",
       "      <td>1.0</td>\n",
       "    </tr>\n",
       "    <tr>\n",
       "      <th>5999</th>\n",
       "      <td>1.052142</td>\n",
       "      <td>-1.891374</td>\n",
       "      <td>1.439380</td>\n",
       "      <td>-1.232442</td>\n",
       "      <td>-0.896909</td>\n",
       "      <td>1</td>\n",
       "      <td>0</td>\n",
       "      <td>1.560932</td>\n",
       "      <td>0.0</td>\n",
       "      <td>1.0</td>\n",
       "      <td>0.0</td>\n",
       "    </tr>\n",
       "  </tbody>\n",
       "</table>\n",
       "<p>6000 rows × 11 columns</p>\n",
       "</div>"
      ],
      "text/plain": [
       "      creditscore       age    tenure   balance  numofproducts  hascrcard  \\\n",
       "0       -0.134048 -0.078068 -0.369113  0.076163       0.816929          0   \n",
       "1       -1.010798  0.494555 -0.007415  0.136391      -0.896909          1   \n",
       "2        0.639554  1.353490 -1.454209  0.358435      -0.896909          1   \n",
       "3       -0.990168  2.116987 -1.092511  0.651725      -0.896909          1   \n",
       "4        0.567351  0.685430  0.715982  0.813110       0.816929          1   \n",
       "...           ...       ...       ...       ...            ...        ...   \n",
       "5995    -0.618839 -0.268942  1.801078  0.744283      -0.896909          0   \n",
       "5996     1.743227 -1.032439  1.077681 -1.232442      -0.896909          1   \n",
       "5997     0.567351 -0.650691  1.439380 -1.232442       0.816929          0   \n",
       "5998    -0.412545  0.494555 -1.092511  0.615524      -0.896909          1   \n",
       "5999     1.052142 -1.891374  1.439380 -1.232442      -0.896909          1   \n",
       "\n",
       "      isactivemember  estimatedsalary  ohe_Germany  ohe_Spain  ohe_Male  \n",
       "0                  1         0.331571          0.0        0.0       0.0  \n",
       "1                  1        -0.727858          0.0        0.0       1.0  \n",
       "2                  1        -0.477006          1.0        0.0       1.0  \n",
       "3                  1        -0.100232          0.0        0.0       0.0  \n",
       "4                  1         0.801922          0.0        0.0       0.0  \n",
       "...              ...              ...          ...        ...       ...  \n",
       "5995               1         0.803658          1.0        0.0       1.0  \n",
       "5996               1        -1.098797          0.0        0.0       0.0  \n",
       "5997               0        -1.202257          0.0        0.0       1.0  \n",
       "5998               1        -0.038931          1.0        0.0       1.0  \n",
       "5999               0         1.560932          0.0        1.0       0.0  \n",
       "\n",
       "[6000 rows x 11 columns]"
      ]
     },
     "execution_count": 24,
     "metadata": {},
     "output_type": "execute_result"
    }
   ],
   "source": [
    "features_train_lr"
   ]
  },
  {
   "cell_type": "markdown",
   "id": "697f3be0",
   "metadata": {},
   "source": [
    "Задаем модель как класс"
   ]
  },
  {
   "cell_type": "code",
   "execution_count": 25,
   "id": "53db1b0a",
   "metadata": {},
   "outputs": [
    {
     "name": "stdout",
     "output_type": "stream",
     "text": [
      "Tuned Hyperparameters : {'C': 0.01, 'penalty': 'none', 'solver': 'newton-cg'}\n",
      "f1_score на тренировочной выборке: 0.32452210332349307\n"
     ]
    }
   ],
   "source": [
    "lr = ml_model (model = LogisticRegression(),\n",
    "               params = {\n",
    "                   'penalty' : ['none', 'l1','l2', 'elasticnet'],\n",
    "                   'solver'  : ['newton-cg'], #, 'lbfgs', 'liblinear', 'sag', 'saga'\n",
    "                   'C': [0.01, 0.1, 1, 10, 100]\n",
    "               },\n",
    "               features_train = features_train_lr,\n",
    "               target_train = target_train,\n",
    "               features_valid = features_valid_lr,\n",
    "               target_valid = target_valid\n",
    "              )"
   ]
  },
  {
   "cell_type": "code",
   "execution_count": 26,
   "id": "f7a537f1",
   "metadata": {},
   "outputs": [
    {
     "name": "stdout",
     "output_type": "stream",
     "text": [
      " f1_score на валидационной выборке: 0.30451127819548873 \n"
     ]
    }
   ],
   "source": [
    "lr.f1_score()"
   ]
  },
  {
   "cell_type": "markdown",
   "id": "06806304",
   "metadata": {},
   "source": [
    "Для несбалансированной метрики используем P-R Curve, ROC curve будем использовать после балансировки"
   ]
  },
  {
   "cell_type": "code",
   "execution_count": 27,
   "id": "f551796f",
   "metadata": {
    "scrolled": false
   },
   "outputs": [
    {
     "data": {
      "image/png": "[encoded data removed]",
      "text/plain": [
       "<Figure size 1080x432 with 1 Axes>"
      ]
     },
     "metadata": {
      "needs_background": "light"
     },
     "output_type": "display_data"
    },
    {
     "name": "stdout",
     "output_type": "stream",
     "text": [
      "Recall score: 0.2071611253196931\n",
      "Precision score: 0.574468085106383\n",
      "f1 score: 0.30451127819548873\n"
     ]
    }
   ],
   "source": [
    "lr.pr_curve()"
   ]
  },
  {
   "cell_type": "markdown",
   "id": "a8f772d9",
   "metadata": {},
   "source": [
    "Для полноты картины строим и ROC-кривую"
   ]
  },
  {
   "cell_type": "code",
   "execution_count": 28,
   "id": "abb4ba82",
   "metadata": {},
   "outputs": [
    {
     "data": {
      "image/png": "[encoded data removed]",
      "text/plain": [
       "<Figure size 1080x432 with 1 Axes>"
      ]
     },
     "metadata": {
      "needs_background": "light"
     },
     "output_type": "display_data"
    },
    {
     "name": "stdout",
     "output_type": "stream",
     "text": [
      "AUC/ROC: 0.7703121349061147\n"
     ]
    }
   ],
   "source": [
    "lr.roc_curve()"
   ]
  },
  {
   "cell_type": "markdown",
   "id": "7fd3c23e",
   "metadata": {},
   "source": [
    "Качество модели на основе логистической модели после оптимизации гиперпараметров недостаточно"
   ]
  },
  {
   "cell_type": "markdown",
   "id": "2ebf64fb",
   "metadata": {},
   "source": [
    "### Случайный лес"
   ]
  },
  {
   "cell_type": "markdown",
   "id": "eb20c36f",
   "metadata": {},
   "source": [
    "Для данной модели кодируем признаки через OE"
   ]
  },
  {
   "cell_type": "code",
   "execution_count": 29,
   "id": "09f1f91f",
   "metadata": {},
   "outputs": [
    {
     "name": "stdout",
     "output_type": "stream",
     "text": [
      "['France' 'Germany' 'Spain']\n",
      "['Female' 'Male']\n",
      "['France' 'Germany' 'Spain']\n",
      "['Female' 'Male']\n",
      "['France' 'Germany' 'Spain']\n",
      "['Female' 'Male']\n"
     ]
    }
   ],
   "source": [
    "features_train_rf = ordinary_encode_columns(df_train=features_train, df_transform=features_train, target_cols= ['geography', 'gender'])\n",
    "features_valid_rf = ordinary_encode_columns (df_train=features_train, df_transform=features_valid, target_cols= ['geography', 'gender'])\n",
    "features_test_rf = ordinary_encode_columns (df_train=features_train, df_transform=features_test, target_cols= ['geography', 'gender'])"
   ]
  },
  {
   "cell_type": "markdown",
   "id": "42a9d684",
   "metadata": {},
   "source": [
    "Нормализуем данные"
   ]
  },
  {
   "cell_type": "code",
   "execution_count": 30,
   "id": "c7f13312",
   "metadata": {},
   "outputs": [],
   "source": [
    "transform_columns(features_train, features_train_rf, ['creditscore', 'age', 'tenure', 'balance', 'numofproducts', 'estimatedsalary'], 'StandardScaler')\n",
    "transform_columns(features_train, features_valid_rf, ['creditscore', 'age', 'tenure', 'balance', 'numofproducts', 'estimatedsalary'], 'StandardScaler')\n",
    "transform_columns(features_train, features_test_rf, ['creditscore', 'age', 'tenure', 'balance', 'numofproducts', 'estimatedsalary'], 'StandardScaler')"
   ]
  },
  {
   "cell_type": "code",
   "execution_count": 31,
   "id": "455db7b6",
   "metadata": {},
   "outputs": [
    {
     "data": {
      "text/html": [
       "<div>\n",
       "<style scoped>\n",
       "    .dataframe tbody tr th:only-of-type {\n",
       "        vertical-align: middle;\n",
       "    }\n",
       "\n",
       "    .dataframe tbody tr th {\n",
       "        vertical-align: top;\n",
       "    }\n",
       "\n",
       "    .dataframe thead th {\n",
       "        text-align: right;\n",
       "    }\n",
       "</style>\n",
       "<table border=\"1\" class=\"dataframe\">\n",
       "  <thead>\n",
       "    <tr style=\"text-align: right;\">\n",
       "      <th></th>\n",
       "      <th>creditscore</th>\n",
       "      <th>age</th>\n",
       "      <th>tenure</th>\n",
       "      <th>balance</th>\n",
       "      <th>numofproducts</th>\n",
       "      <th>hascrcard</th>\n",
       "      <th>isactivemember</th>\n",
       "      <th>estimatedsalary</th>\n",
       "      <th>oe_geography</th>\n",
       "      <th>oe_gender</th>\n",
       "    </tr>\n",
       "  </thead>\n",
       "  <tbody>\n",
       "    <tr>\n",
       "      <th>0</th>\n",
       "      <td>-0.134048</td>\n",
       "      <td>-0.078068</td>\n",
       "      <td>-0.369113</td>\n",
       "      <td>0.076163</td>\n",
       "      <td>0.816929</td>\n",
       "      <td>0</td>\n",
       "      <td>1</td>\n",
       "      <td>0.331571</td>\n",
       "      <td>0.0</td>\n",
       "      <td>0.0</td>\n",
       "    </tr>\n",
       "    <tr>\n",
       "      <th>1</th>\n",
       "      <td>-1.010798</td>\n",
       "      <td>0.494555</td>\n",
       "      <td>-0.007415</td>\n",
       "      <td>0.136391</td>\n",
       "      <td>-0.896909</td>\n",
       "      <td>1</td>\n",
       "      <td>1</td>\n",
       "      <td>-0.727858</td>\n",
       "      <td>0.0</td>\n",
       "      <td>1.0</td>\n",
       "    </tr>\n",
       "    <tr>\n",
       "      <th>2</th>\n",
       "      <td>0.639554</td>\n",
       "      <td>1.353490</td>\n",
       "      <td>-1.454209</td>\n",
       "      <td>0.358435</td>\n",
       "      <td>-0.896909</td>\n",
       "      <td>1</td>\n",
       "      <td>1</td>\n",
       "      <td>-0.477006</td>\n",
       "      <td>1.0</td>\n",
       "      <td>1.0</td>\n",
       "    </tr>\n",
       "    <tr>\n",
       "      <th>3</th>\n",
       "      <td>-0.990168</td>\n",
       "      <td>2.116987</td>\n",
       "      <td>-1.092511</td>\n",
       "      <td>0.651725</td>\n",
       "      <td>-0.896909</td>\n",
       "      <td>1</td>\n",
       "      <td>1</td>\n",
       "      <td>-0.100232</td>\n",
       "      <td>0.0</td>\n",
       "      <td>0.0</td>\n",
       "    </tr>\n",
       "    <tr>\n",
       "      <th>4</th>\n",
       "      <td>0.567351</td>\n",
       "      <td>0.685430</td>\n",
       "      <td>0.715982</td>\n",
       "      <td>0.813110</td>\n",
       "      <td>0.816929</td>\n",
       "      <td>1</td>\n",
       "      <td>1</td>\n",
       "      <td>0.801922</td>\n",
       "      <td>0.0</td>\n",
       "      <td>0.0</td>\n",
       "    </tr>\n",
       "    <tr>\n",
       "      <th>...</th>\n",
       "      <td>...</td>\n",
       "      <td>...</td>\n",
       "      <td>...</td>\n",
       "      <td>...</td>\n",
       "      <td>...</td>\n",
       "      <td>...</td>\n",
       "      <td>...</td>\n",
       "      <td>...</td>\n",
       "      <td>...</td>\n",
       "      <td>...</td>\n",
       "    </tr>\n",
       "    <tr>\n",
       "      <th>5995</th>\n",
       "      <td>-0.618839</td>\n",
       "      <td>-0.268942</td>\n",
       "      <td>1.801078</td>\n",
       "      <td>0.744283</td>\n",
       "      <td>-0.896909</td>\n",
       "      <td>0</td>\n",
       "      <td>1</td>\n",
       "      <td>0.803658</td>\n",
       "      <td>1.0</td>\n",
       "      <td>1.0</td>\n",
       "    </tr>\n",
       "    <tr>\n",
       "      <th>5996</th>\n",
       "      <td>1.743227</td>\n",
       "      <td>-1.032439</td>\n",
       "      <td>1.077681</td>\n",
       "      <td>-1.232442</td>\n",
       "      <td>-0.896909</td>\n",
       "      <td>1</td>\n",
       "      <td>1</td>\n",
       "      <td>-1.098797</td>\n",
       "      <td>0.0</td>\n",
       "      <td>0.0</td>\n",
       "    </tr>\n",
       "    <tr>\n",
       "      <th>5997</th>\n",
       "      <td>0.567351</td>\n",
       "      <td>-0.650691</td>\n",
       "      <td>1.439380</td>\n",
       "      <td>-1.232442</td>\n",
       "      <td>0.816929</td>\n",
       "      <td>0</td>\n",
       "      <td>0</td>\n",
       "      <td>-1.202257</td>\n",
       "      <td>0.0</td>\n",
       "      <td>1.0</td>\n",
       "    </tr>\n",
       "    <tr>\n",
       "      <th>5998</th>\n",
       "      <td>-0.412545</td>\n",
       "      <td>0.494555</td>\n",
       "      <td>-1.092511</td>\n",
       "      <td>0.615524</td>\n",
       "      <td>-0.896909</td>\n",
       "      <td>1</td>\n",
       "      <td>1</td>\n",
       "      <td>-0.038931</td>\n",
       "      <td>1.0</td>\n",
       "      <td>1.0</td>\n",
       "    </tr>\n",
       "    <tr>\n",
       "      <th>5999</th>\n",
       "      <td>1.052142</td>\n",
       "      <td>-1.891374</td>\n",
       "      <td>1.439380</td>\n",
       "      <td>-1.232442</td>\n",
       "      <td>-0.896909</td>\n",
       "      <td>1</td>\n",
       "      <td>0</td>\n",
       "      <td>1.560932</td>\n",
       "      <td>2.0</td>\n",
       "      <td>0.0</td>\n",
       "    </tr>\n",
       "  </tbody>\n",
       "</table>\n",
       "<p>6000 rows × 10 columns</p>\n",
       "</div>"
      ],
      "text/plain": [
       "      creditscore       age    tenure   balance  numofproducts  hascrcard  \\\n",
       "0       -0.134048 -0.078068 -0.369113  0.076163       0.816929          0   \n",
       "1       -1.010798  0.494555 -0.007415  0.136391      -0.896909          1   \n",
       "2        0.639554  1.353490 -1.454209  0.358435      -0.896909          1   \n",
       "3       -0.990168  2.116987 -1.092511  0.651725      -0.896909          1   \n",
       "4        0.567351  0.685430  0.715982  0.813110       0.816929          1   \n",
       "...           ...       ...       ...       ...            ...        ...   \n",
       "5995    -0.618839 -0.268942  1.801078  0.744283      -0.896909          0   \n",
       "5996     1.743227 -1.032439  1.077681 -1.232442      -0.896909          1   \n",
       "5997     0.567351 -0.650691  1.439380 -1.232442       0.816929          0   \n",
       "5998    -0.412545  0.494555 -1.092511  0.615524      -0.896909          1   \n",
       "5999     1.052142 -1.891374  1.439380 -1.232442      -0.896909          1   \n",
       "\n",
       "      isactivemember  estimatedsalary  oe_geography  oe_gender  \n",
       "0                  1         0.331571           0.0        0.0  \n",
       "1                  1        -0.727858           0.0        1.0  \n",
       "2                  1        -0.477006           1.0        1.0  \n",
       "3                  1        -0.100232           0.0        0.0  \n",
       "4                  1         0.801922           0.0        0.0  \n",
       "...              ...              ...           ...        ...  \n",
       "5995               1         0.803658           1.0        1.0  \n",
       "5996               1        -1.098797           0.0        0.0  \n",
       "5997               0        -1.202257           0.0        1.0  \n",
       "5998               1        -0.038931           1.0        1.0  \n",
       "5999               0         1.560932           2.0        0.0  \n",
       "\n",
       "[6000 rows x 10 columns]"
      ]
     },
     "execution_count": 31,
     "metadata": {},
     "output_type": "execute_result"
    }
   ],
   "source": [
    "features_train_rf"
   ]
  },
  {
   "cell_type": "markdown",
   "id": "6fc6e166",
   "metadata": {},
   "source": [
    "Инициализируем модель как класс"
   ]
  },
  {
   "cell_type": "code",
   "execution_count": 32,
   "id": "c83cc7b7",
   "metadata": {},
   "outputs": [
    {
     "name": "stdout",
     "output_type": "stream",
     "text": [
      "Tuned Hyperparameters : {'criterion': 'gini', 'max_depth': 11, 'max_features': 'log2', 'n_estimators': 80}\n",
      "f1_score на тренировочной выборке: 0.579382296004317\n"
     ]
    }
   ],
   "source": [
    "rf = ml_model (model = RandomForestClassifier(),\n",
    "               params = {\n",
    "                   'n_estimators': np.arange(20,100,20), #[10, 30, 3],\n",
    "                   'max_features': ['log2'], #['auto', 'sqrt', 'log2'],\n",
    "                   'max_depth' : np.arange(10,15,1), #np.arange(5,20,2),\n",
    "                   'criterion' : ['gini'] #['gini', 'entropy']\n",
    "               },\n",
    "               features_train = features_train_rf,\n",
    "               target_train = target_train,\n",
    "               features_valid = features_valid_rf,\n",
    "               target_valid = target_valid\n",
    "              )"
   ]
  },
  {
   "cell_type": "code",
   "execution_count": 33,
   "id": "1991369a",
   "metadata": {},
   "outputs": [
    {
     "name": "stdout",
     "output_type": "stream",
     "text": [
      " f1_score на валидационной выборке: 0.5415282392026578 \n"
     ]
    }
   ],
   "source": [
    "rf.f1_score()"
   ]
  },
  {
   "cell_type": "code",
   "execution_count": 34,
   "id": "1397868b",
   "metadata": {
    "scrolled": false
   },
   "outputs": [
    {
     "data": {
      "image/png": "[encoded data removed]",
      "text/plain": [
       "<Figure size 1080x432 with 1 Axes>"
      ]
     },
     "metadata": {
      "needs_background": "light"
     },
     "output_type": "display_data"
    },
    {
     "name": "stdout",
     "output_type": "stream",
     "text": [
      "Recall score: 0.41687979539641945\n",
      "Precision score: 0.7725118483412322\n",
      "f1 score: 0.5415282392026578\n"
     ]
    }
   ],
   "source": [
    "rf.pr_curve()"
   ]
  },
  {
   "cell_type": "markdown",
   "id": "5c9f3916",
   "metadata": {},
   "source": [
    "Для полноты картины строим и ROC-кривую"
   ]
  },
  {
   "cell_type": "code",
   "execution_count": 35,
   "id": "21495173",
   "metadata": {
    "scrolled": true
   },
   "outputs": [
    {
     "data": {
      "image/png": "[encoded data removed]",
      "text/plain": [
       "<Figure size 1080x432 with 1 Axes>"
      ]
     },
     "metadata": {
      "needs_background": "light"
     },
     "output_type": "display_data"
    },
    {
     "name": "stdout",
     "output_type": "stream",
     "text": [
      "AUC/ROC: 0.8517991031903345\n"
     ]
    }
   ],
   "source": [
    "rf.roc_curve()"
   ]
  },
  {
   "cell_type": "markdown",
   "id": "ba8715d5",
   "metadata": {},
   "source": [
    "- Результаты по модели случайного леса значительно лучше и приближаются к требуемому значению метрики f1\n",
    "- Ниже проверим улучшится ли качество мадели после балансировки классов"
   ]
  },
  {
   "cell_type": "markdown",
   "id": "ce722174",
   "metadata": {},
   "source": [
    "### Выводы по исследованию задачи до учета дисбаланса"
   ]
  },
  {
   "cell_type": "markdown",
   "id": "e4211a5a",
   "metadata": {},
   "source": [
    "- Данные были стандратно разбиты на 3 выборки\n",
    "- Дополнительно к шагам по обрабоке данных до разбиения, после него на основе тренировочной выборки:\n",
    "    1. были обработаны категорийные признаки (выбор между OHE и OE зависит от типа модели)\n",
    "    2. были нормализованы численные данные\n",
    "- Для оптимизации гиперпараметров применено gridsearchcv, для тестирования на валидационной выборки взяты наилучшие модели\n",
    "- Результаты по модели RandomForest значительно лучше, чем по логистической регрессии, по всем метрикам, включая f1 и AUC_ROC - именно данная модель будет принята для дальнейшей оптимизации с учетом дисбаланса"
   ]
  },
  {
   "cell_type": "markdown",
   "id": "7f060e76",
   "metadata": {},
   "source": [
    "<div class=\"alert alert-block alert-success\">\n",
    "<b>Успех:</b> Шаг проделан хорошо, идем дальше.\n",
    "</div>\n"
   ]
  },
  {
   "cell_type": "markdown",
   "id": "5d5903bd",
   "metadata": {},
   "source": [
    "## Борьба с дисбалансом"
   ]
  },
  {
   "cell_type": "markdown",
   "id": "3fd3acb7",
   "metadata": {},
   "source": [
    "### Функции для downsampling и upsampling"
   ]
  },
  {
   "cell_type": "markdown",
   "id": "6e42a793",
   "metadata": {},
   "source": [
    "Задаем функции downsapling и upsampling"
   ]
  },
  {
   "cell_type": "code",
   "execution_count": 36,
   "id": "cc759dd3",
   "metadata": {},
   "outputs": [],
   "source": [
    "def upsample(features, target, repeat):\n",
    "    features_zeros = features[target == 0]\n",
    "    features_ones = features[target == 1]\n",
    "    target_zeros = target[target == 0]\n",
    "    target_ones = target[target == 1] \n",
    "    \n",
    "    #upsample the minority class\n",
    "    features_upsampled = features_zeros.append(resample(features_ones,random_state=12345,n_samples=features_zeros.shape[0],replace=True))\n",
    "    target_upsampled = target_zeros.append(resample(target_ones,random_state=12345,n_samples=target_zeros.shape[0],replace=True))\n",
    "\n",
    "    #features_upsampled, target_upsampled = shuffle( features_upsampled, target_upsampled, random_state=12345)\n",
    "    \n",
    "    #features_upsampled.reset_index(inplace=True, drop=True)\n",
    "    #target_upsampled.reset_index(inplace=True, drop=True)\n",
    "    \n",
    "    return features_upsampled, target_upsampled"
   ]
  },
  {
   "cell_type": "code",
   "execution_count": 37,
   "id": "2bf80948",
   "metadata": {},
   "outputs": [],
   "source": [
    "def downsample(features, target, repeat):\n",
    "    features_zeros = features[target == 0]\n",
    "    features_ones = features[target == 1]\n",
    "    target_zeros = target[target == 0]\n",
    "    target_ones = target[target == 1] \n",
    "    \n",
    "    #upsample the minority class\n",
    "    features_upsampled = features_ones.append(resample(features_zeros,random_state=12345,n_samples=features_ones.shape[0],replace=True))\n",
    "    target_upsampled = target_ones.append(resample(target_zeros,random_state=12345,n_samples=target_ones.shape[0],replace=True))\n",
    "\n",
    "    features_upsampled, target_upsampled = shuffle( features_upsampled, target_upsampled, random_state=12345)\n",
    "    \n",
    "    features_upsampled.reset_index(inplace=True, drop=True)\n",
    "    target_upsampled.reset_index(inplace=True, drop=True)\n",
    "    \n",
    "    return features_upsampled, target_upsampled"
   ]
  },
  {
   "cell_type": "markdown",
   "id": "9ff7b77d",
   "metadata": {},
   "source": [
    "### Upsampling"
   ]
  },
  {
   "cell_type": "markdown",
   "id": "6b0889c7",
   "metadata": {},
   "source": [
    "Сбрасываем индексы таргетов"
   ]
  },
  {
   "cell_type": "code",
   "execution_count": 38,
   "id": "7aed2400",
   "metadata": {},
   "outputs": [],
   "source": [
    "target_train.reset_index(inplace=True, drop=True)"
   ]
  },
  {
   "cell_type": "markdown",
   "id": "5b5a99ed",
   "metadata": {},
   "source": [
    "Количество повторов в upsample для уравнивания классов:"
   ]
  },
  {
   "cell_type": "code",
   "execution_count": 39,
   "id": "e3c7e39f",
   "metadata": {},
   "outputs": [
    {
     "data": {
      "text/plain": [
       "exited\n",
       "0    7963\n",
       "1    2037\n",
       "Name: exited, dtype: int64"
      ]
     },
     "execution_count": 39,
     "metadata": {},
     "output_type": "execute_result"
    }
   ],
   "source": [
    "df.groupby('exited')['exited'].count()"
   ]
  },
  {
   "cell_type": "code",
   "execution_count": 40,
   "id": "ff339fb7",
   "metadata": {},
   "outputs": [],
   "source": [
    "features_train_rf_ups, target_train_ups = upsample(features_train_rf, target_train, 7963)"
   ]
  },
  {
   "cell_type": "code",
   "execution_count": 41,
   "id": "1448614b",
   "metadata": {},
   "outputs": [
    {
     "name": "stdout",
     "output_type": "stream",
     "text": [
      "4781 of 9562\n"
     ]
    }
   ],
   "source": [
    "print(f'{target_train_ups.sum()} of {target_train_ups.shape[0]}')"
   ]
  },
  {
   "cell_type": "markdown",
   "id": "04448705",
   "metadata": {},
   "source": [
    "Инициализируем модель как класс, но с уже со сбалансированной тренировочной выборкой"
   ]
  },
  {
   "cell_type": "code",
   "execution_count": 42,
   "id": "d7320f52",
   "metadata": {
    "scrolled": true
   },
   "outputs": [
    {
     "name": "stdout",
     "output_type": "stream",
     "text": [
      "Использован перебор по ParameterGrid без кросс-валидации\n",
      "Tuned Hyperparameters : {'criterion': 'gini', 'max_depth': 10, 'max_features': 'log2', 'n_estimators': 20}\n",
      "f1_score на валидационной выборке: 0.6023809523809524\n"
     ]
    }
   ],
   "source": [
    "rf_ups = ml_model (model = RandomForestClassifier(),\n",
    "               params = {\n",
    "                   'n_estimators': np.arange(20,100,20), #[10, 30, 3],\n",
    "                   'max_features': ['log2'], #['auto', 'sqrt', 'log2'],\n",
    "                   'max_depth' : np.arange(10,15,1), #np.arange(5,20,2),\n",
    "                   'criterion' : ['gini'] #['gini', 'entropy']\n",
    "               },\n",
    "               features_train = features_train_rf_ups,\n",
    "               target_train = target_train_ups,\n",
    "               features_valid = features_valid_rf,\n",
    "               target_valid = target_valid,\n",
    "               use_cv = False\n",
    "              )"
   ]
  },
  {
   "cell_type": "code",
   "execution_count": 43,
   "id": "20d2e4bb",
   "metadata": {},
   "outputs": [
    {
     "name": "stdout",
     "output_type": "stream",
     "text": [
      " f1_score на валидационной выборке: 0.6023809523809524 \n"
     ]
    }
   ],
   "source": [
    "rf_ups.f1_score()"
   ]
  },
  {
   "cell_type": "code",
   "execution_count": 44,
   "id": "403e0b79",
   "metadata": {
    "scrolled": false
   },
   "outputs": [
    {
     "data": {
      "image/png": "[encoded data removed]",
      "text/plain": [
       "<Figure size 1080x432 with 1 Axes>"
      ]
     },
     "metadata": {
      "needs_background": "light"
     },
     "output_type": "display_data"
    },
    {
     "name": "stdout",
     "output_type": "stream",
     "text": [
      "Recall score: 0.6470588235294118\n",
      "Precision score: 0.5634743875278396\n",
      "f1 score: 0.6023809523809524\n"
     ]
    }
   ],
   "source": [
    "rf_ups.pr_curve()"
   ]
  },
  {
   "cell_type": "code",
   "execution_count": 45,
   "id": "2bbc006b",
   "metadata": {},
   "outputs": [
    {
     "data": {
      "image/png": "[encoded data removed]",
      "text/plain": [
       "<Figure size 1080x432 with 1 Axes>"
      ]
     },
     "metadata": {
      "needs_background": "light"
     },
     "output_type": "display_data"
    },
    {
     "name": "stdout",
     "output_type": "stream",
     "text": [
      "AUC/ROC: 0.8464233316749294\n"
     ]
    }
   ],
   "source": [
    "rf_ups.roc_curve()"
   ]
  },
  {
   "cell_type": "markdown",
   "id": "5ea91dc1",
   "metadata": {},
   "source": [
    "- Отмечаем повышение качества модели после апсемплинга: f1_score вырос с 0.54 ло 0.58, auc_roc_score вырос до 0.73\n",
    "- f1_score вырос за счет повышения recall, что, вероятно, связано с большим кол-вом объектов с целевым признаком 1\n",
    "- f1 score на валидационной выборке близка к целевой 0.58\n",
    "- **Я не совсем понимаю причину такого высокого (>.9) f1 на тренировочной выборке. Может ли это быть по причине того дупликации объектов? Или у меня где-то техническая ошибка? Сомневаюсь, что модель может быть настолько переобучена**"
   ]
  },
  {
   "cell_type": "markdown",
   "id": "cfb96f17",
   "metadata": {},
   "source": [
    "<div class=\"alert alert-block alert-danger\">\n",
    "<b>Ответ:</b>  Да, объяснил выше.\n",
    "    \n",
    "    \n",
    "\n",
    "</div>"
   ]
  },
  {
   "cell_type": "markdown",
   "id": "71a7cb95",
   "metadata": {},
   "source": [
    "<div class=\"alert alert-block alert-warning\">\n",
    "<b>Комментарий:</b> Убрал кросс-валидацию при использовании апсемплинга - на конечнный результат не влияет, но все равно на тренировочном сете f1 зашкаливает. Уже и upsampling свой проверил - вроде адекватно всё. Не пойму причину.\n",
    "    \n",
    "    Может быть на этом этапе достаточно сделать вывод, что для использования оптимизационных алгоритмов для rf_classifier лучше использовать class_weight вместо ручного апсемплинга? :)\n",
    "</div>"
   ]
  },
  {
   "cell_type": "markdown",
   "id": "e9ecc116",
   "metadata": {},
   "source": [
    "<div class=\"alert alert-block alert-success\">\n",
    "    \n",
    "<b>Ответ[2]:</b> У тебя на тренировочном датасете и без устранения дисбаланса будет зашкаливать f1 - это норм. нужно смотреть на валидации\n",
    "</div>\n"
   ]
  },
  {
   "cell_type": "markdown",
   "id": "e5ede241",
   "metadata": {},
   "source": [
    "<div class=\"alert alert-block alert-warning\">\n",
    "<b>Комментарий студента:</b> Ааа, вот оно что. По валидации всё ок. Меня смущало то, что при ручном апсемплинге на трейне f1 растет очень сильно, чего не наблюдается без апсемплинга. \n",
    "</div>"
   ]
  },
  {
   "cell_type": "markdown",
   "id": "a6c6cf78",
   "metadata": {},
   "source": [
    "<div class=\"alert alert-block alert-success\">\n",
    "    \n",
    "<b>Успех[3]:</b>  Ну это закономерно, модель тренировочные данные 'запоминает', чем больше их дублируется, чем лучше будет оценка\n",
    "</div>\n"
   ]
  },
  {
   "cell_type": "markdown",
   "id": "59e3746d",
   "metadata": {},
   "source": [
    "### Downsampling"
   ]
  },
  {
   "cell_type": "markdown",
   "id": "e2ed8279",
   "metadata": {},
   "source": [
    "Сбрасываем индексы таргетов"
   ]
  },
  {
   "cell_type": "code",
   "execution_count": 46,
   "id": "bf932a1e",
   "metadata": {},
   "outputs": [],
   "source": [
    "target_train.reset_index(inplace=True, drop=True)"
   ]
  },
  {
   "cell_type": "markdown",
   "id": "3a8f1f59",
   "metadata": {},
   "source": [
    "Количество повторов в upsample для уравнивания классов:"
   ]
  },
  {
   "cell_type": "code",
   "execution_count": 47,
   "id": "cb312eab",
   "metadata": {},
   "outputs": [
    {
     "data": {
      "text/plain": [
       "exited\n",
       "0    7963\n",
       "1    2037\n",
       "Name: exited, dtype: int64"
      ]
     },
     "execution_count": 47,
     "metadata": {},
     "output_type": "execute_result"
    }
   ],
   "source": [
    "df.groupby('exited')['exited'].count()"
   ]
  },
  {
   "cell_type": "code",
   "execution_count": 48,
   "id": "b36748a0",
   "metadata": {},
   "outputs": [],
   "source": [
    "features_train_rf_down, target_train_down = downsample(features_train_rf, target_train, 2037)"
   ]
  },
  {
   "cell_type": "code",
   "execution_count": 49,
   "id": "c0d4884f",
   "metadata": {
    "scrolled": true
   },
   "outputs": [
    {
     "name": "stdout",
     "output_type": "stream",
     "text": [
      "1219 of 2438\n"
     ]
    }
   ],
   "source": [
    "print(f'{target_train_down.sum()} of {target_train_down.shape[0]}')"
   ]
  },
  {
   "cell_type": "markdown",
   "id": "72bbef13",
   "metadata": {},
   "source": [
    "Инициализируем модель как класс, но с уже со сбалансированной тренировочной выборкой"
   ]
  },
  {
   "cell_type": "code",
   "execution_count": 50,
   "id": "4ac65960",
   "metadata": {
    "scrolled": true
   },
   "outputs": [
    {
     "name": "stdout",
     "output_type": "stream",
     "text": [
      "Использован перебор по ParameterGrid без кросс-валидации\n",
      "Tuned Hyperparameters : {'criterion': 'gini', 'max_depth': 7, 'max_features': 'sqrt', 'n_estimators': 90}\n",
      "f1_score на валидационной выборке: 0.5656370656370657\n"
     ]
    }
   ],
   "source": [
    "rf_down = ml_model (model = RandomForestClassifier(),\n",
    "               params = {\n",
    "                   'n_estimators': np.arange(50,100,20),\n",
    "                   'max_features': ['auto', 'sqrt', 'log2'],\n",
    "                   'max_depth' : np.arange(7,15,2), #np.arange(5,20,2),\n",
    "                   'criterion' : ['gini'] #['gini', 'entropy']\n",
    "               },\n",
    "               features_train = features_train_rf_down,\n",
    "               target_train = target_train_down,\n",
    "               features_valid = features_valid_rf,\n",
    "               target_valid = target_valid,\n",
    "               use_cv = False\n",
    "              )"
   ]
  },
  {
   "cell_type": "code",
   "execution_count": 51,
   "id": "51435285",
   "metadata": {},
   "outputs": [
    {
     "name": "stdout",
     "output_type": "stream",
     "text": [
      " f1_score на валидационной выборке: 0.5656370656370657 \n"
     ]
    }
   ],
   "source": [
    "rf_down.f1_score()"
   ]
  },
  {
   "cell_type": "code",
   "execution_count": 52,
   "id": "ee6cab83",
   "metadata": {
    "scrolled": false
   },
   "outputs": [
    {
     "data": {
      "image/png": "[encoded data removed]",
      "text/plain": [
       "<Figure size 1080x432 with 1 Axes>"
      ]
     },
     "metadata": {
      "needs_background": "light"
     },
     "output_type": "display_data"
    },
    {
     "name": "stdout",
     "output_type": "stream",
     "text": [
      "Recall score: 0.7493606138107417\n",
      "Precision score: 0.4542635658914729\n",
      "f1 score: 0.5656370656370657\n"
     ]
    }
   ],
   "source": [
    "rf_down.pr_curve()"
   ]
  },
  {
   "cell_type": "code",
   "execution_count": 53,
   "id": "d698a124",
   "metadata": {},
   "outputs": [
    {
     "data": {
      "image/png": "[encoded data removed]",
      "text/plain": [
       "<Figure size 1080x432 with 1 Axes>"
      ]
     },
     "metadata": {
      "needs_background": "light"
     },
     "output_type": "display_data"
    },
    {
     "name": "stdout",
     "output_type": "stream",
     "text": [
      "AUC/ROC: 0.8515797488233546\n"
     ]
    }
   ],
   "source": [
    "rf_down.roc_curve()"
   ]
  },
  {
   "cell_type": "markdown",
   "id": "2d90b941",
   "metadata": {},
   "source": [
    "- После даунсемплинга метрика f1 практически не улучшилась по сравнению с обучением на оригинальной выборке, метрика AUC_ROC выросла"
   ]
  },
  {
   "cell_type": "markdown",
   "id": "353c1cf5",
   "metadata": {},
   "source": [
    "### Использования параметра class_weight"
   ]
  },
  {
   "cell_type": "markdown",
   "id": "1d996488",
   "metadata": {},
   "source": [
    "Сбрасываем индексы таргетов"
   ]
  },
  {
   "cell_type": "code",
   "execution_count": 54,
   "id": "e8d0bee7",
   "metadata": {},
   "outputs": [],
   "source": [
    "target_train.reset_index(inplace=True, drop=True)"
   ]
  },
  {
   "cell_type": "markdown",
   "id": "4c3d6b77",
   "metadata": {},
   "source": [
    "Количество повторов в upsample для уравнивания классов:"
   ]
  },
  {
   "cell_type": "code",
   "execution_count": 55,
   "id": "cf82854c",
   "metadata": {},
   "outputs": [
    {
     "data": {
      "text/plain": [
       "exited\n",
       "0    7963\n",
       "1    2037\n",
       "Name: exited, dtype: int64"
      ]
     },
     "execution_count": 55,
     "metadata": {},
     "output_type": "execute_result"
    }
   ],
   "source": [
    "df.groupby('exited')['exited'].count()"
   ]
  },
  {
   "cell_type": "markdown",
   "id": "eec634b7",
   "metadata": {},
   "source": [
    "Включаем параметры, отвечающие за вес классов в оптимизатор гиперпараметров"
   ]
  },
  {
   "cell_type": "code",
   "execution_count": 56,
   "id": "110d653f",
   "metadata": {},
   "outputs": [
    {
     "name": "stdout",
     "output_type": "stream",
     "text": [
      "Tuned Hyperparameters : {'class_weight': 'balanced', 'criterion': 'gini', 'max_depth': 10, 'max_features': 'log2', 'n_estimators': 70}\n",
      "f1_score на тренировочной выборке: 0.6100384747888491\n"
     ]
    }
   ],
   "source": [
    "rf_weight = ml_model (model = RandomForestClassifier(),\n",
    "               params = {\n",
    "                   'class_weight': ['balanced', 'balanced_subsample'],\n",
    "                   'n_estimators': np.arange(30,80,20),\n",
    "                   'max_features': ['auto', 'sqrt', 'log2'],\n",
    "                   'max_depth' : np.arange(8,16,2), #np.arange(5,20,2),\n",
    "                   'criterion' : ['gini'] #['gini', 'entropy']\n",
    "               },\n",
    "               features_train = features_train_rf,\n",
    "               target_train = target_train,\n",
    "               features_valid = features_valid_rf,\n",
    "               target_valid = target_valid\n",
    "              )"
   ]
  },
  {
   "cell_type": "code",
   "execution_count": 57,
   "id": "57662f4b",
   "metadata": {},
   "outputs": [
    {
     "name": "stdout",
     "output_type": "stream",
     "text": [
      " f1_score на валидационной выборке: 0.5888324873096445 \n"
     ]
    }
   ],
   "source": [
    "rf_weight.f1_score()"
   ]
  },
  {
   "cell_type": "code",
   "execution_count": 58,
   "id": "81d40893",
   "metadata": {},
   "outputs": [
    {
     "data": {
      "image/png": "[encoded data removed]",
      "text/plain": [
       "<Figure size 1080x432 with 1 Axes>"
      ]
     },
     "metadata": {
      "needs_background": "light"
     },
     "output_type": "display_data"
    },
    {
     "name": "stdout",
     "output_type": "stream",
     "text": [
      "Recall score: 0.5933503836317136\n",
      "Precision score: 0.5843828715365239\n",
      "f1 score: 0.5888324873096445\n"
     ]
    }
   ],
   "source": [
    "rf_weight.pr_curve()"
   ]
  },
  {
   "cell_type": "code",
   "execution_count": 59,
   "id": "0ea2e4d8",
   "metadata": {},
   "outputs": [
    {
     "data": {
      "image/png": "[encoded data removed]",
      "text/plain": [
       "<Figure size 1080x432 with 1 Axes>"
      ]
     },
     "metadata": {
      "needs_background": "light"
     },
     "output_type": "display_data"
    },
    {
     "name": "stdout",
     "output_type": "stream",
     "text": [
      "AUC/ROC: 0.8488998106876441\n"
     ]
    }
   ],
   "source": [
    "rf_weight.roc_curve()"
   ]
  },
  {
   "cell_type": "markdown",
   "id": "080a949c",
   "metadata": {},
   "source": [
    "- Балансировка с использованием параметра class_weight дает результат по метрике f1 аналогичный тому, который получался при \"ручном\" апсемплинге и характеризуется близкими величинами Recall и Precision.\n",
    "- Величина AUC/ROC чуть выше, чем при \"ручном\" upsamplingе"
   ]
  },
  {
   "cell_type": "markdown",
   "id": "a345b6ca",
   "metadata": {},
   "source": [
    "###  Выводы по борьбе с дисбалансом"
   ]
  },
  {
   "cell_type": "markdown",
   "id": "e76cf486",
   "metadata": {},
   "source": [
    "- Балансировка тренировочной выборки с использованием upsampling дала лучшие результаты, чем использование оригинальной выборки\n",
    "- Downsampling не улучшил качествно модели\n",
    "- Взвешивание классов (class_weightning) привело к незначительно лучшим результатам на валидационной выборке, чем \"ручной\" upsampling\n",
    "- Для тестирования принимается модель RandomForest с параметром 'class_weight' = 'balanced' и подобранным через gridsearchcv набором других гиперпараметров"
   ]
  },
  {
   "cell_type": "markdown",
   "id": "0f581ce3",
   "metadata": {},
   "source": [
    "<div class=\"alert alert-block alert-success\">\n",
    "<b>Успех:</b> Хорошая работа с моделями машинного обучения.  Радует  достатчоное количество расмотренных методов для борьбы с дисбалансом. Но вычисления нужно будет обновить\n",
    "</div>"
   ]
  },
  {
   "cell_type": "markdown",
   "id": "53a9f2fc",
   "metadata": {},
   "source": [
    "## Тестирование модели"
   ]
  },
  {
   "cell_type": "code",
   "execution_count": 60,
   "id": "5372ae4e",
   "metadata": {},
   "outputs": [],
   "source": [
    "best_model = rf_weight"
   ]
  },
  {
   "cell_type": "markdown",
   "id": "f2abf2fa",
   "metadata": {},
   "source": [
    "Тестируем лучшую на валидационных выборках модель на тестовом датасете"
   ]
  },
  {
   "cell_type": "code",
   "execution_count": 61,
   "id": "9557912f",
   "metadata": {},
   "outputs": [
    {
     "data": {
      "text/plain": [
       "RandomForestClassifier(class_weight='balanced', max_depth=10,\n",
       "                       max_features='log2', n_estimators=70)"
      ]
     },
     "execution_count": 61,
     "metadata": {},
     "output_type": "execute_result"
    }
   ],
   "source": [
    "best_model.optimized_model"
   ]
  },
  {
   "cell_type": "markdown",
   "id": "e6ea2e63",
   "metadata": {},
   "source": [
    "Метрика f1_score на тестовой выборке:"
   ]
  },
  {
   "cell_type": "code",
   "execution_count": 62,
   "id": "68fd30d9",
   "metadata": {},
   "outputs": [
    {
     "data": {
      "text/plain": [
       "0.627962085308057"
      ]
     },
     "execution_count": 62,
     "metadata": {},
     "output_type": "execute_result"
    }
   ],
   "source": [
    "f1_score(target_test, best_model.optimized_model.predict(features_test_rf))"
   ]
  },
  {
   "cell_type": "markdown",
   "id": "42d556f6",
   "metadata": {},
   "source": [
    "<div class=\"alert alert-block alert-danger\">\n",
    "<b>Ошибка:</b>  да победа, но тут также нужно посчитать ROC_AUC)  \n",
    "    \n",
    "\n",
    "</div>"
   ]
  },
  {
   "cell_type": "markdown",
   "id": "e19f9a80",
   "metadata": {},
   "source": [
    "<div class=\"alert alert-block alert-warning\">\n",
    "<b>Изменения:</b> добавил ROC_AUC, также заодно добавил sanity check\n",
    "</div>"
   ]
  },
  {
   "cell_type": "code",
   "execution_count": 63,
   "id": "ca2e9c5d",
   "metadata": {},
   "outputs": [
    {
     "data": {
      "text/plain": [
       "0.8589607114197277"
      ]
     },
     "execution_count": 63,
     "metadata": {},
     "output_type": "execute_result"
    }
   ],
   "source": [
    "probabilities_test = best_model.optimized_model.predict_proba(features_test_rf)\n",
    "roc_auc_score(target_test, probabilities_test[:,1])"
   ]
  },
  {
   "cell_type": "markdown",
   "id": "5581c263",
   "metadata": {},
   "source": [
    "<div class=\"alert alert-block alert-danger\">\n",
    "<b>Ошибка[2]:</b>  Для ROC_AUC нужно использовать вероятности 1-го класса, а не сами предсказания\n",
    "    \n",
    "\n",
    "</div>"
   ]
  },
  {
   "cell_type": "markdown",
   "id": "ab6c4273",
   "metadata": {},
   "source": [
    "<div class=\"alert alert-block alert-warning\">\n",
    "<b>Изменения:</b> Поправил\n",
    "</div>"
   ]
  },
  {
   "cell_type": "markdown",
   "id": "8d9f6f7b",
   "metadata": {},
   "source": [
    "<div class=\"alert alert-block alert-success\">\n",
    "    \n",
    "<b>Успех[3]:</b>  Есть контакт\n",
    "</div>\n"
   ]
  },
  {
   "cell_type": "code",
   "execution_count": 64,
   "id": "61f70bc8",
   "metadata": {
    "scrolled": true
   },
   "outputs": [
    {
     "name": "stdout",
     "output_type": "stream",
     "text": [
      "f1 dummy модели: 0.3198887343532684\n",
      "ROC_AUC dummy модели: 0.5\n"
     ]
    }
   ],
   "source": [
    "dummy_model = DummyClassifier(strategy='uniform', random_state=12345)\n",
    "dummy_model.fit(features_test_rf, target_test)\n",
    "dummy_model_prediction=dummy_model.predict(features_test_rf)\n",
    "dummy_model_probabilities = dummy_model.predict_proba(features_test_rf)\n",
    "\n",
    "print(f'f1 dummy модели: {f1_score(target_test,dummy_model_prediction)}')\n",
    "print(f'ROC_AUC dummy модели: {roc_auc_score(target_test,dummy_model_probabilities[:,1])}')"
   ]
  },
  {
   "cell_type": "markdown",
   "id": "2b1ac25e",
   "metadata": {},
   "source": [
    "Показатели dummy-модели существенно ниже, чем по выбранной модели - модель прошла sanity check"
   ]
  },
  {
   "cell_type": "markdown",
   "id": "769ceec5",
   "metadata": {},
   "source": [
    "\n",
    "<div class=\"alert alert-block alert-info\">\n",
    "<b>Совет:</b> Для понимания, а какие в итоге факторы важны при моделировании, можно выводить их важность, использую feature_importances_, ну и график заодно. Это будет смотреться очнь здорово: результативная метрика и график важности факторов)))<br> Очень ВАЖНАЯ для аналитики штука. Ведь нам не просто модель с метрикой нужна, а ещё и причины понять высокой/низкой метрики. Т.е. понять с какой силой сами факторы влияют на целевую.\n",
    "</div>\n"
   ]
  },
  {
   "cell_type": "markdown",
   "id": "b5cddd4c",
   "metadata": {},
   "source": [
    "<div class=\"alert alert-block alert-warning\">\n",
    "<b>Комментарий:</b> Спасибо, Люман - действительно очень полезный инструмент. Сделал. Видно, что отток из какого-то из регионов сильно влияет, а баланс, зарплата и пол практически не имеют влияния - можно было их из модели убрать.\n",
    "</div>"
   ]
  },
  {
   "cell_type": "markdown",
   "id": "5abf2e48",
   "metadata": {},
   "source": [
    "<div class=\"alert alert-block alert-success\">\n",
    "    \n",
    "<b>Успех[2]:</b>  Отличная реализация - то что убрать я бы не утверждал, но эксперементировать можно\n",
    "</div>\n"
   ]
  },
  {
   "cell_type": "code",
   "execution_count": 65,
   "id": "a1dfef2c",
   "metadata": {
    "scrolled": true
   },
   "outputs": [
    {
     "data": {
      "image/png": "[encoded data removed]",
      "text/plain": [
       "<Figure size 1080x1080 with 1 Axes>"
      ]
     },
     "metadata": {
      "needs_background": "light"
     },
     "output_type": "display_data"
    }
   ],
   "source": [
    "feature_scores = pd.Series(best_model.optimized_model.feature_importances_, index=features_test.columns).sort_values(ascending=False)\n",
    "feature_scores\n",
    "\n",
    "f, ax = plt.subplots(figsize=(15,15))\n",
    "ax = sns.barplot(x=feature_scores, y=feature_scores.index)\n",
    "ax.set_title(\"Visualize feature scores of the features\")\n",
    "ax.set_yticklabels(feature_scores.index)\n",
    "ax.set_xlabel(\"Feature importance score\")\n",
    "ax.set_ylabel(\"Features\")\n",
    "plt.show()"
   ]
  },
  {
   "cell_type": "markdown",
   "id": "eb3d465c",
   "metadata": {},
   "source": [
    "- Метрика f1 на тестовой выборке существенно выше порогового значения 0.58\n",
    "- Величина AUC_ROC составила 0.77\n",
    "- Модель прошла sanity_check\n",
    "- География клиентов имеет определяющее значение на отток клиентов"
   ]
  },
  {
   "cell_type": "markdown",
   "id": "e50c0cb1",
   "metadata": {},
   "source": [
    "# Чек-лист готовности проекта"
   ]
  },
  {
   "cell_type": "markdown",
   "id": "c81e88b4",
   "metadata": {},
   "source": [
    "- [x]  Jupyter Notebook открыт\n",
    "- [x]  Весь код выполняется без ошибок\n",
    "- [x]  Ячейки с кодом расположены в порядке исполнения\n",
    "- [x]  Выполнен шаг 1: данные подготовлены\n",
    "- [x]  Выполнен шаг 2: задача исследована\n",
    "    - [x]  Исследован баланс классов\n",
    "    - [x]  Изучены модели без учёта дисбаланса\n",
    "    - [x]  Написаны выводы по результатам исследования\n",
    "- [x]  Выполнен шаг 3: учтён дисбаланс\n",
    "    - [x]  Применено несколько способов борьбы с дисбалансом\n",
    "    - [x]  Написаны выводы по результатам исследования\n",
    "- [x]  Выполнен шаг 4: проведено тестирование\n",
    "- [x]  Удалось достичь *F1*-меры не менее 0.59\n",
    "- [x]  Исследована метрика *AUC-ROC*"
   ]
  }
 ],
 "metadata": {
  "ExecuteTimeLog": [
   {
    "duration": 8199,
    "start_time": "2023-02-12T08:25:27.738Z"
   },
   {
    "duration": 160,
    "start_time": "2023-02-12T08:25:35.941Z"
   },
   {
    "duration": 16,
    "start_time": "2023-02-12T08:25:36.103Z"
   },
   {
    "duration": 41,
    "start_time": "2023-02-12T08:25:36.121Z"
   },
   {
    "duration": 4,
    "start_time": "2023-02-12T08:25:36.165Z"
   },
   {
    "duration": 7,
    "start_time": "2023-02-12T08:25:36.171Z"
   },
   {
    "duration": 5,
    "start_time": "2023-02-12T08:25:36.180Z"
   },
   {
    "duration": 1711,
    "start_time": "2023-02-12T08:25:36.187Z"
   },
   {
    "duration": 1713,
    "start_time": "2023-02-12T08:25:37.900Z"
   },
   {
    "duration": 8,
    "start_time": "2023-02-12T08:25:39.614Z"
   },
   {
    "duration": 16,
    "start_time": "2023-02-12T08:25:39.624Z"
   },
   {
    "duration": 156,
    "start_time": "2023-02-12T08:25:39.641Z"
   },
   {
    "duration": 5,
    "start_time": "2023-02-12T08:25:39.799Z"
   },
   {
    "duration": 6,
    "start_time": "2023-02-12T08:25:39.807Z"
   },
   {
    "duration": 9,
    "start_time": "2023-02-12T08:25:39.815Z"
   },
   {
    "duration": 54,
    "start_time": "2023-02-12T08:25:39.825Z"
   },
   {
    "duration": 1324,
    "start_time": "2023-02-12T08:25:39.881Z"
   },
   {
    "duration": 119,
    "start_time": "2023-02-12T08:25:41.207Z"
   },
   {
    "duration": 18,
    "start_time": "2023-02-12T08:25:41.328Z"
   },
   {
    "duration": 117,
    "start_time": "2023-02-12T08:25:41.349Z"
   },
   {
    "duration": 46,
    "start_time": "2023-02-12T08:25:41.468Z"
   },
   {
    "duration": 47,
    "start_time": "2023-02-12T08:25:41.516Z"
   },
   {
    "duration": 19,
    "start_time": "2023-02-12T08:25:41.565Z"
   },
   {
    "duration": 73059,
    "start_time": "2023-02-12T08:25:41.585Z"
   },
   {
    "duration": 95,
    "start_time": "2023-02-12T08:26:54.647Z"
   },
   {
    "duration": 246,
    "start_time": "2023-02-12T08:26:54.745Z"
   },
   {
    "duration": 164,
    "start_time": "2023-02-12T08:26:54.992Z"
   },
   {
    "duration": 41,
    "start_time": "2023-02-12T08:26:55.158Z"
   },
   {
    "duration": 60,
    "start_time": "2023-02-12T08:26:55.201Z"
   },
   {
    "duration": 19,
    "start_time": "2023-02-12T08:26:55.263Z"
   },
   {
    "duration": 30217,
    "start_time": "2023-02-12T08:26:55.284Z"
   },
   {
    "duration": 6,
    "start_time": "2023-02-12T08:27:25.503Z"
   },
   {
    "duration": 157,
    "start_time": "2023-02-12T08:27:25.510Z"
   },
   {
    "duration": 149,
    "start_time": "2023-02-12T08:27:25.669Z"
   },
   {
    "duration": 5,
    "start_time": "2023-02-12T08:27:25.820Z"
   },
   {
    "duration": 14,
    "start_time": "2023-02-12T08:27:25.827Z"
   },
   {
    "duration": 125,
    "start_time": "2023-02-12T08:52:25.162Z"
   },
   {
    "duration": 5,
    "start_time": "2023-02-12T08:52:29.612Z"
   },
   {
    "duration": 5,
    "start_time": "2023-02-12T08:52:35.906Z"
   },
   {
    "duration": 6,
    "start_time": "2023-02-12T08:52:36.202Z"
   },
   {
    "duration": 3,
    "start_time": "2023-02-12T08:52:37.593Z"
   },
   {
    "duration": 7,
    "start_time": "2023-02-12T08:52:38.412Z"
   },
   {
    "duration": 12,
    "start_time": "2023-02-12T08:52:40.124Z"
   },
   {
    "duration": 4,
    "start_time": "2023-02-12T08:52:40.662Z"
   },
   {
    "duration": 5,
    "start_time": "2023-02-12T08:52:51.400Z"
   },
   {
    "duration": 7,
    "start_time": "2023-02-12T08:52:59.582Z"
   },
   {
    "duration": 26,
    "start_time": "2023-02-12T22:44:08.012Z"
   },
   {
    "duration": 1740,
    "start_time": "2023-02-12T23:01:10.862Z"
   },
   {
    "duration": 144,
    "start_time": "2023-02-12T23:01:12.604Z"
   },
   {
    "duration": 14,
    "start_time": "2023-02-12T23:01:12.749Z"
   },
   {
    "duration": 42,
    "start_time": "2023-02-12T23:01:12.765Z"
   },
   {
    "duration": 4,
    "start_time": "2023-02-12T23:01:12.810Z"
   },
   {
    "duration": 20,
    "start_time": "2023-02-12T23:01:12.816Z"
   },
   {
    "duration": 3,
    "start_time": "2023-02-12T23:01:12.838Z"
   },
   {
    "duration": 1643,
    "start_time": "2023-02-12T23:01:12.843Z"
   },
   {
    "duration": 1558,
    "start_time": "2023-02-12T23:01:14.488Z"
   },
   {
    "duration": 6,
    "start_time": "2023-02-12T23:01:16.048Z"
   },
   {
    "duration": 4,
    "start_time": "2023-02-12T23:01:16.056Z"
   },
   {
    "duration": 163,
    "start_time": "2023-02-12T23:01:16.062Z"
   },
   {
    "duration": 11,
    "start_time": "2023-02-12T23:01:16.227Z"
   },
   {
    "duration": 5,
    "start_time": "2023-02-12T23:01:16.241Z"
   },
   {
    "duration": 9,
    "start_time": "2023-02-12T23:01:16.248Z"
   },
   {
    "duration": 39,
    "start_time": "2023-02-12T23:01:16.259Z"
   },
   {
    "duration": 627,
    "start_time": "2023-02-12T23:01:16.300Z"
   },
   {
    "duration": 110,
    "start_time": "2023-02-12T23:01:16.928Z"
   },
   {
    "duration": 11,
    "start_time": "2023-02-12T23:01:17.039Z"
   },
   {
    "duration": 5,
    "start_time": "2023-02-12T23:01:17.052Z"
   },
   {
    "duration": 134,
    "start_time": "2023-02-12T23:01:17.059Z"
   },
   {
    "duration": 52,
    "start_time": "2023-02-12T23:01:17.195Z"
   },
   {
    "duration": 37,
    "start_time": "2023-02-12T23:01:17.249Z"
   },
   {
    "duration": 19,
    "start_time": "2023-02-12T23:01:17.288Z"
   },
   {
    "duration": 67548,
    "start_time": "2023-02-12T23:01:17.309Z"
   },
   {
    "duration": 10,
    "start_time": "2023-02-12T23:02:24.938Z"
   },
   {
    "duration": 338,
    "start_time": "2023-02-12T23:02:24.952Z"
   },
   {
    "duration": 163,
    "start_time": "2023-02-12T23:02:25.293Z"
   },
   {
    "duration": 47,
    "start_time": "2023-02-12T23:02:25.459Z"
   },
   {
    "duration": 82,
    "start_time": "2023-02-12T23:02:25.508Z"
   },
   {
    "duration": 24,
    "start_time": "2023-02-12T23:02:25.592Z"
   },
   {
    "duration": 29383,
    "start_time": "2023-02-12T23:02:25.618Z"
   },
   {
    "duration": 42,
    "start_time": "2023-02-12T23:02:55.003Z"
   },
   {
    "duration": 162,
    "start_time": "2023-02-12T23:02:55.046Z"
   },
   {
    "duration": 163,
    "start_time": "2023-02-12T23:02:55.210Z"
   },
   {
    "duration": 4,
    "start_time": "2023-02-12T23:02:55.375Z"
   },
   {
    "duration": 6,
    "start_time": "2023-02-12T23:02:55.381Z"
   },
   {
    "duration": 8,
    "start_time": "2023-02-12T23:02:55.388Z"
   },
   {
    "duration": 10,
    "start_time": "2023-02-12T23:02:55.398Z"
   },
   {
    "duration": 29,
    "start_time": "2023-02-12T23:02:55.410Z"
   },
   {
    "duration": 4,
    "start_time": "2023-02-12T23:02:55.445Z"
   },
   {
    "duration": 38397,
    "start_time": "2023-02-12T23:02:55.451Z"
   },
   {
    "duration": 39,
    "start_time": "2023-02-12T23:03:33.850Z"
   },
   {
    "duration": 165,
    "start_time": "2023-02-12T23:03:33.891Z"
   },
   {
    "duration": 155,
    "start_time": "2023-02-12T23:03:34.059Z"
   },
   {
    "duration": 3,
    "start_time": "2023-02-12T23:03:34.216Z"
   },
   {
    "duration": 24,
    "start_time": "2023-02-12T23:03:34.221Z"
   },
   {
    "duration": 31,
    "start_time": "2023-02-12T23:03:34.247Z"
   },
   {
    "duration": 20,
    "start_time": "2023-02-12T23:03:34.280Z"
   },
   {
    "duration": 37760,
    "start_time": "2023-02-12T23:03:34.302Z"
   },
   {
    "duration": 44,
    "start_time": "2023-02-12T23:04:12.063Z"
   },
   {
    "duration": 157,
    "start_time": "2023-02-12T23:04:12.109Z"
   },
   {
    "duration": 145,
    "start_time": "2023-02-12T23:04:12.268Z"
   },
   {
    "duration": 3,
    "start_time": "2023-02-12T23:04:12.415Z"
   },
   {
    "duration": 19,
    "start_time": "2023-02-12T23:04:12.420Z"
   },
   {
    "duration": 111286,
    "start_time": "2023-02-12T23:04:12.441Z"
   },
   {
    "duration": 33,
    "start_time": "2023-02-12T23:06:03.729Z"
   },
   {
    "duration": 150,
    "start_time": "2023-02-12T23:06:03.764Z"
   },
   {
    "duration": 155,
    "start_time": "2023-02-12T23:06:03.915Z"
   },
   {
    "duration": 3,
    "start_time": "2023-02-12T23:06:04.072Z"
   },
   {
    "duration": 28,
    "start_time": "2023-02-12T23:06:04.076Z"
   },
   {
    "duration": 46,
    "start_time": "2023-02-12T23:06:04.106Z"
   },
   {
    "duration": 39,
    "start_time": "2023-02-12T23:06:04.153Z"
   },
   {
    "duration": 8,
    "start_time": "2023-02-12T23:06:04.194Z"
   },
   {
    "duration": 284,
    "start_time": "2023-02-12T23:06:04.203Z"
   },
   {
    "duration": 126,
    "start_time": "2023-02-12T23:34:51.622Z"
   },
   {
    "duration": 13,
    "start_time": "2023-02-12T23:35:50.075Z"
   },
   {
    "duration": 20,
    "start_time": "2023-02-12T23:37:39.202Z"
   },
   {
    "duration": 3,
    "start_time": "2023-02-12T23:37:43.676Z"
   },
   {
    "duration": 3,
    "start_time": "2023-02-12T23:37:45.056Z"
   },
   {
    "duration": 12,
    "start_time": "2023-02-12T23:37:47.995Z"
   },
   {
    "duration": 3,
    "start_time": "2023-02-12T23:37:52.179Z"
   },
   {
    "duration": 7,
    "start_time": "2023-02-12T23:37:52.811Z"
   },
   {
    "duration": 11,
    "start_time": "2023-02-12T23:37:53.417Z"
   },
   {
    "duration": 3,
    "start_time": "2023-02-12T23:37:53.818Z"
   },
   {
    "duration": 37562,
    "start_time": "2023-02-12T23:37:54.830Z"
   },
   {
    "duration": 9551,
    "start_time": "2023-02-12T23:38:34.700Z"
   },
   {
    "duration": 17,
    "start_time": "2023-02-12T23:39:10.419Z"
   },
   {
    "duration": 3,
    "start_time": "2023-02-12T23:39:14.824Z"
   },
   {
    "duration": 7,
    "start_time": "2023-02-12T23:39:15.426Z"
   },
   {
    "duration": 11,
    "start_time": "2023-02-12T23:39:16.151Z"
   },
   {
    "duration": 5,
    "start_time": "2023-02-12T23:39:16.761Z"
   },
   {
    "duration": 10348,
    "start_time": "2023-02-12T23:39:18.120Z"
   },
   {
    "duration": 13,
    "start_time": "2023-02-12T23:40:10.012Z"
   },
   {
    "duration": 8826,
    "start_time": "2023-02-12T23:40:31.641Z"
   },
   {
    "duration": 34,
    "start_time": "2023-02-12T23:40:43.268Z"
   },
   {
    "duration": 12,
    "start_time": "2023-02-12T23:48:06.738Z"
   },
   {
    "duration": 4,
    "start_time": "2023-02-12T23:48:11.574Z"
   },
   {
    "duration": 7,
    "start_time": "2023-02-12T23:48:12.286Z"
   },
   {
    "duration": 9,
    "start_time": "2023-02-12T23:48:13.245Z"
   },
   {
    "duration": 4,
    "start_time": "2023-02-12T23:48:16.796Z"
   },
   {
    "duration": 9869,
    "start_time": "2023-02-12T23:48:24.119Z"
   },
   {
    "duration": 41,
    "start_time": "2023-02-12T23:48:35.878Z"
   },
   {
    "duration": 13,
    "start_time": "2023-02-12T23:51:32.050Z"
   },
   {
    "duration": 3,
    "start_time": "2023-02-12T23:51:37.635Z"
   },
   {
    "duration": 6,
    "start_time": "2023-02-12T23:51:38.594Z"
   },
   {
    "duration": 10,
    "start_time": "2023-02-12T23:51:39.183Z"
   },
   {
    "duration": 4,
    "start_time": "2023-02-12T23:51:39.649Z"
   },
   {
    "duration": 8794,
    "start_time": "2023-02-12T23:51:41.536Z"
   },
   {
    "duration": 30,
    "start_time": "2023-02-12T23:51:52.665Z"
   },
   {
    "duration": 13,
    "start_time": "2023-02-12T23:54:06.037Z"
   },
   {
    "duration": 150,
    "start_time": "2023-02-12T23:59:03.639Z"
   },
   {
    "duration": 21,
    "start_time": "2023-02-13T00:05:29.534Z"
   },
   {
    "duration": 21,
    "start_time": "2023-02-13T00:05:32.306Z"
   },
   {
    "duration": 43,
    "start_time": "2023-02-13T00:05:36.596Z"
   },
   {
    "duration": 57,
    "start_time": "2023-02-13T00:05:37.652Z"
   },
   {
    "duration": 29,
    "start_time": "2023-02-13T00:05:39.187Z"
   },
   {
    "duration": 1594,
    "start_time": "2023-02-13T00:06:54.352Z"
   },
   {
    "duration": 174,
    "start_time": "2023-02-13T00:06:55.948Z"
   },
   {
    "duration": 16,
    "start_time": "2023-02-13T00:06:56.124Z"
   },
   {
    "duration": 46,
    "start_time": "2023-02-13T00:06:56.142Z"
   },
   {
    "duration": 5,
    "start_time": "2023-02-13T00:06:56.189Z"
   },
   {
    "duration": 6,
    "start_time": "2023-02-13T00:06:56.196Z"
   },
   {
    "duration": 7,
    "start_time": "2023-02-13T00:06:56.204Z"
   },
   {
    "duration": 1772,
    "start_time": "2023-02-13T00:06:56.213Z"
   },
   {
    "duration": 1732,
    "start_time": "2023-02-13T00:06:57.987Z"
   },
   {
    "duration": 15,
    "start_time": "2023-02-13T00:06:59.722Z"
   },
   {
    "duration": 6,
    "start_time": "2023-02-13T00:06:59.740Z"
   },
   {
    "duration": 171,
    "start_time": "2023-02-13T00:06:59.749Z"
   },
   {
    "duration": 15,
    "start_time": "2023-02-13T00:06:59.921Z"
   },
   {
    "duration": 17,
    "start_time": "2023-02-13T00:06:59.938Z"
   },
   {
    "duration": 44,
    "start_time": "2023-02-13T00:06:59.957Z"
   },
   {
    "duration": 69,
    "start_time": "2023-02-13T00:07:00.003Z"
   },
   {
    "duration": 596,
    "start_time": "2023-02-13T00:07:00.075Z"
   },
   {
    "duration": 125,
    "start_time": "2023-02-13T00:07:00.672Z"
   },
   {
    "duration": 12,
    "start_time": "2023-02-13T00:07:00.799Z"
   },
   {
    "duration": 46,
    "start_time": "2023-02-13T00:07:00.813Z"
   },
   {
    "duration": 37,
    "start_time": "2023-02-13T00:07:00.862Z"
   },
   {
    "duration": 5,
    "start_time": "2023-02-13T00:08:10.913Z"
   },
   {
    "duration": 3,
    "start_time": "2023-02-13T00:08:13.338Z"
   },
   {
    "duration": 7,
    "start_time": "2023-02-13T00:08:14.393Z"
   },
   {
    "duration": 43,
    "start_time": "2023-02-13T00:08:27.200Z"
   },
   {
    "duration": 39,
    "start_time": "2023-02-13T00:08:27.865Z"
   },
   {
    "duration": 30,
    "start_time": "2023-02-13T00:08:28.351Z"
   },
   {
    "duration": 94794,
    "start_time": "2023-02-13T00:08:30.352Z"
   },
   {
    "duration": 9,
    "start_time": "2023-02-13T00:10:19.990Z"
   },
   {
    "duration": 151,
    "start_time": "2023-02-13T00:10:22.429Z"
   },
   {
    "duration": 259,
    "start_time": "2023-02-13T00:10:26.492Z"
   },
   {
    "duration": 15,
    "start_time": "2023-02-13T00:11:26.764Z"
   },
   {
    "duration": 40,
    "start_time": "2023-02-13T00:11:34.011Z"
   },
   {
    "duration": 34,
    "start_time": "2023-02-13T00:11:34.934Z"
   },
   {
    "duration": 19,
    "start_time": "2023-02-13T00:11:35.815Z"
   },
   {
    "duration": 24650,
    "start_time": "2023-02-13T00:11:38.990Z"
   },
   {
    "duration": 100,
    "start_time": "2023-02-13T00:12:03.642Z"
   },
   {
    "duration": 13,
    "start_time": "2023-02-13T00:12:27.417Z"
   },
   {
    "duration": 149,
    "start_time": "2023-02-13T00:12:28.616Z"
   },
   {
    "duration": 147,
    "start_time": "2023-02-13T00:12:33.064Z"
   },
   {
    "duration": 1599,
    "start_time": "2023-02-13T00:14:28.039Z"
   },
   {
    "duration": 100,
    "start_time": "2023-02-13T00:14:29.640Z"
   },
   {
    "duration": 14,
    "start_time": "2023-02-13T00:14:29.742Z"
   },
   {
    "duration": 41,
    "start_time": "2023-02-13T00:14:29.758Z"
   },
   {
    "duration": 4,
    "start_time": "2023-02-13T00:14:29.801Z"
   },
   {
    "duration": 30,
    "start_time": "2023-02-13T00:14:29.807Z"
   },
   {
    "duration": 4,
    "start_time": "2023-02-13T00:14:29.839Z"
   },
   {
    "duration": 1667,
    "start_time": "2023-02-13T00:14:29.845Z"
   },
   {
    "duration": 1565,
    "start_time": "2023-02-13T00:14:31.514Z"
   },
   {
    "duration": 7,
    "start_time": "2023-02-13T00:14:33.083Z"
   },
   {
    "duration": 18,
    "start_time": "2023-02-13T00:14:33.092Z"
   },
   {
    "duration": 150,
    "start_time": "2023-02-13T00:14:33.112Z"
   },
   {
    "duration": 6,
    "start_time": "2023-02-13T00:14:33.264Z"
   },
   {
    "duration": 6,
    "start_time": "2023-02-13T00:14:33.271Z"
   },
   {
    "duration": 12,
    "start_time": "2023-02-13T00:14:33.279Z"
   },
   {
    "duration": 55,
    "start_time": "2023-02-13T00:14:33.293Z"
   },
   {
    "duration": 532,
    "start_time": "2023-02-13T00:14:33.350Z"
   },
   {
    "duration": 108,
    "start_time": "2023-02-13T00:14:33.883Z"
   },
   {
    "duration": 12,
    "start_time": "2023-02-13T00:14:33.993Z"
   },
   {
    "duration": 10,
    "start_time": "2023-02-13T00:14:34.007Z"
   },
   {
    "duration": 27,
    "start_time": "2023-02-13T00:14:34.020Z"
   },
   {
    "duration": 51,
    "start_time": "2023-02-13T00:14:34.049Z"
   },
   {
    "duration": 50,
    "start_time": "2023-02-13T00:14:34.101Z"
   },
   {
    "duration": 18,
    "start_time": "2023-02-13T00:14:34.153Z"
   },
   {
    "duration": 20889,
    "start_time": "2023-02-13T00:14:34.172Z"
   },
   {
    "duration": 8,
    "start_time": "2023-02-13T00:14:55.138Z"
   },
   {
    "duration": 358,
    "start_time": "2023-02-13T00:14:55.237Z"
   },
   {
    "duration": 165,
    "start_time": "2023-02-13T00:14:55.599Z"
   },
   {
    "duration": 39,
    "start_time": "2023-02-13T00:14:55.766Z"
   },
   {
    "duration": 57,
    "start_time": "2023-02-13T00:14:55.806Z"
   },
   {
    "duration": 18,
    "start_time": "2023-02-13T00:14:55.865Z"
   },
   {
    "duration": 28203,
    "start_time": "2023-02-13T00:14:55.884Z"
   },
   {
    "duration": 26,
    "start_time": "2023-02-13T00:15:24.089Z"
   },
   {
    "duration": 153,
    "start_time": "2023-02-13T00:15:24.117Z"
   },
   {
    "duration": 159,
    "start_time": "2023-02-13T00:15:24.271Z"
   },
   {
    "duration": 5,
    "start_time": "2023-02-13T00:15:24.437Z"
   },
   {
    "duration": 16,
    "start_time": "2023-02-13T00:15:24.444Z"
   },
   {
    "duration": 12,
    "start_time": "2023-02-13T00:15:24.462Z"
   },
   {
    "duration": 10,
    "start_time": "2023-02-13T00:15:24.476Z"
   },
   {
    "duration": 9,
    "start_time": "2023-02-13T00:15:24.488Z"
   },
   {
    "duration": 4,
    "start_time": "2023-02-13T00:15:24.498Z"
   },
   {
    "duration": 8833,
    "start_time": "2023-02-13T00:15:24.504Z"
   },
   {
    "duration": 28,
    "start_time": "2023-02-13T00:15:33.339Z"
   },
   {
    "duration": 133,
    "start_time": "2023-02-13T00:15:33.368Z"
   },
   {
    "duration": 0,
    "start_time": "2023-02-13T00:15:33.503Z"
   },
   {
    "duration": 0,
    "start_time": "2023-02-13T00:15:33.504Z"
   },
   {
    "duration": 0,
    "start_time": "2023-02-13T00:15:33.506Z"
   },
   {
    "duration": 0,
    "start_time": "2023-02-13T00:15:33.508Z"
   },
   {
    "duration": 0,
    "start_time": "2023-02-13T00:15:33.509Z"
   },
   {
    "duration": 0,
    "start_time": "2023-02-13T00:15:33.510Z"
   },
   {
    "duration": 0,
    "start_time": "2023-02-13T00:15:33.512Z"
   },
   {
    "duration": 0,
    "start_time": "2023-02-13T00:15:33.513Z"
   },
   {
    "duration": 0,
    "start_time": "2023-02-13T00:15:33.514Z"
   },
   {
    "duration": 0,
    "start_time": "2023-02-13T00:15:33.515Z"
   },
   {
    "duration": 0,
    "start_time": "2023-02-13T00:15:33.516Z"
   },
   {
    "duration": 0,
    "start_time": "2023-02-13T00:15:33.517Z"
   },
   {
    "duration": 0,
    "start_time": "2023-02-13T00:15:33.536Z"
   },
   {
    "duration": 0,
    "start_time": "2023-02-13T00:15:33.538Z"
   },
   {
    "duration": 0,
    "start_time": "2023-02-13T00:15:33.540Z"
   },
   {
    "duration": 0,
    "start_time": "2023-02-13T00:15:33.541Z"
   },
   {
    "duration": 0,
    "start_time": "2023-02-13T00:15:33.542Z"
   },
   {
    "duration": 0,
    "start_time": "2023-02-13T00:15:33.543Z"
   },
   {
    "duration": 0,
    "start_time": "2023-02-13T00:15:33.544Z"
   },
   {
    "duration": 0,
    "start_time": "2023-02-13T00:15:33.545Z"
   },
   {
    "duration": 0,
    "start_time": "2023-02-13T00:15:33.546Z"
   },
   {
    "duration": 13,
    "start_time": "2023-02-13T00:19:45.747Z"
   },
   {
    "duration": 13,
    "start_time": "2023-02-13T00:21:57.287Z"
   },
   {
    "duration": 41,
    "start_time": "2023-02-13T00:22:02.374Z"
   },
   {
    "duration": 54,
    "start_time": "2023-02-13T00:22:04.978Z"
   },
   {
    "duration": 27,
    "start_time": "2023-02-13T00:22:05.532Z"
   },
   {
    "duration": 1523,
    "start_time": "2023-02-13T00:22:30.615Z"
   },
   {
    "duration": 112,
    "start_time": "2023-02-13T00:22:32.140Z"
   },
   {
    "duration": 14,
    "start_time": "2023-02-13T00:22:32.254Z"
   },
   {
    "duration": 43,
    "start_time": "2023-02-13T00:22:32.271Z"
   },
   {
    "duration": 20,
    "start_time": "2023-02-13T00:22:32.319Z"
   },
   {
    "duration": 6,
    "start_time": "2023-02-13T00:22:32.342Z"
   },
   {
    "duration": 10,
    "start_time": "2023-02-13T00:22:32.350Z"
   },
   {
    "duration": 1774,
    "start_time": "2023-02-13T00:22:32.362Z"
   },
   {
    "duration": 1808,
    "start_time": "2023-02-13T00:22:34.138Z"
   },
   {
    "duration": 10,
    "start_time": "2023-02-13T00:22:35.950Z"
   },
   {
    "duration": 14,
    "start_time": "2023-02-13T00:22:35.962Z"
   },
   {
    "duration": 226,
    "start_time": "2023-02-13T00:22:35.978Z"
   },
   {
    "duration": 8,
    "start_time": "2023-02-13T00:22:36.207Z"
   },
   {
    "duration": 32,
    "start_time": "2023-02-13T00:22:36.217Z"
   },
   {
    "duration": 9,
    "start_time": "2023-02-13T00:22:36.252Z"
   },
   {
    "duration": 41,
    "start_time": "2023-02-13T00:22:36.263Z"
   },
   {
    "duration": 615,
    "start_time": "2023-02-13T00:22:36.306Z"
   },
   {
    "duration": 120,
    "start_time": "2023-02-13T00:22:36.923Z"
   },
   {
    "duration": 13,
    "start_time": "2023-02-13T00:22:37.044Z"
   },
   {
    "duration": 3,
    "start_time": "2023-02-13T00:22:37.060Z"
   },
   {
    "duration": 20,
    "start_time": "2023-02-13T00:22:37.066Z"
   },
   {
    "duration": 78,
    "start_time": "2023-02-13T00:22:37.089Z"
   },
   {
    "duration": 50,
    "start_time": "2023-02-13T00:22:37.169Z"
   },
   {
    "duration": 37,
    "start_time": "2023-02-13T00:22:37.221Z"
   },
   {
    "duration": 110489,
    "start_time": "2023-02-13T00:22:37.260Z"
   },
   {
    "duration": 92,
    "start_time": "2023-02-13T00:24:27.752Z"
   },
   {
    "duration": 504,
    "start_time": "2023-02-13T00:24:27.845Z"
   },
   {
    "duration": 218,
    "start_time": "2023-02-13T00:24:28.354Z"
   },
   {
    "duration": 37,
    "start_time": "2023-02-13T00:24:28.574Z"
   },
   {
    "duration": 64,
    "start_time": "2023-02-13T00:24:28.613Z"
   },
   {
    "duration": 19,
    "start_time": "2023-02-13T00:24:28.678Z"
   },
   {
    "duration": 29116,
    "start_time": "2023-02-13T00:24:28.699Z"
   },
   {
    "duration": 42,
    "start_time": "2023-02-13T00:24:57.817Z"
   },
   {
    "duration": 175,
    "start_time": "2023-02-13T00:24:57.861Z"
   },
   {
    "duration": 172,
    "start_time": "2023-02-13T00:24:58.038Z"
   },
   {
    "duration": 6,
    "start_time": "2023-02-13T00:24:58.212Z"
   },
   {
    "duration": 23,
    "start_time": "2023-02-13T00:24:58.220Z"
   },
   {
    "duration": 23,
    "start_time": "2023-02-13T00:24:58.246Z"
   },
   {
    "duration": 19,
    "start_time": "2023-02-13T00:24:58.272Z"
   },
   {
    "duration": 34,
    "start_time": "2023-02-13T00:24:58.294Z"
   },
   {
    "duration": 34,
    "start_time": "2023-02-13T00:24:58.330Z"
   },
   {
    "duration": 9346,
    "start_time": "2023-02-13T00:24:58.366Z"
   },
   {
    "duration": 48,
    "start_time": "2023-02-13T00:25:07.714Z"
   },
   {
    "duration": 160,
    "start_time": "2023-02-13T00:25:07.765Z"
   },
   {
    "duration": 150,
    "start_time": "2023-02-13T00:25:07.927Z"
   },
   {
    "duration": 3,
    "start_time": "2023-02-13T00:25:08.079Z"
   },
   {
    "duration": 11,
    "start_time": "2023-02-13T00:25:08.084Z"
   },
   {
    "duration": 14,
    "start_time": "2023-02-13T00:25:08.096Z"
   },
   {
    "duration": 24,
    "start_time": "2023-02-13T00:25:08.112Z"
   },
   {
    "duration": 8904,
    "start_time": "2023-02-13T00:25:08.138Z"
   },
   {
    "duration": 32,
    "start_time": "2023-02-13T00:25:17.045Z"
   },
   {
    "duration": 171,
    "start_time": "2023-02-13T00:25:17.078Z"
   },
   {
    "duration": 172,
    "start_time": "2023-02-13T00:25:17.251Z"
   },
   {
    "duration": 14,
    "start_time": "2023-02-13T00:25:17.425Z"
   },
   {
    "duration": 35,
    "start_time": "2023-02-13T00:25:17.441Z"
   },
   {
    "duration": 106559,
    "start_time": "2023-02-13T00:25:17.479Z"
   },
   {
    "duration": 30,
    "start_time": "2023-02-13T00:27:04.039Z"
   },
   {
    "duration": 168,
    "start_time": "2023-02-13T00:27:04.072Z"
   },
   {
    "duration": 174,
    "start_time": "2023-02-13T00:27:04.242Z"
   },
   {
    "duration": 3,
    "start_time": "2023-02-13T00:27:04.419Z"
   },
   {
    "duration": 17,
    "start_time": "2023-02-13T00:27:04.424Z"
   },
   {
    "duration": 38,
    "start_time": "2023-02-13T00:27:04.443Z"
   },
   {
    "duration": 32,
    "start_time": "2023-02-13T00:27:04.483Z"
   },
   {
    "duration": 28,
    "start_time": "2023-02-13T00:27:04.517Z"
   },
   {
    "duration": 257,
    "start_time": "2023-02-13T00:27:04.546Z"
   },
   {
    "duration": 11,
    "start_time": "2023-02-13T01:03:41.828Z"
   },
   {
    "duration": 1601,
    "start_time": "2023-02-13T01:03:59.473Z"
   },
   {
    "duration": 119,
    "start_time": "2023-02-13T01:04:01.076Z"
   },
   {
    "duration": 13,
    "start_time": "2023-02-13T01:04:01.197Z"
   },
   {
    "duration": 45,
    "start_time": "2023-02-13T01:04:01.212Z"
   },
   {
    "duration": 5,
    "start_time": "2023-02-13T01:04:01.259Z"
   },
   {
    "duration": 39,
    "start_time": "2023-02-13T01:04:01.265Z"
   },
   {
    "duration": 41,
    "start_time": "2023-02-13T01:04:01.306Z"
   },
   {
    "duration": 1716,
    "start_time": "2023-02-13T01:04:01.349Z"
   },
   {
    "duration": 1611,
    "start_time": "2023-02-13T01:04:03.067Z"
   },
   {
    "duration": 7,
    "start_time": "2023-02-13T01:04:04.680Z"
   },
   {
    "duration": 18,
    "start_time": "2023-02-13T01:04:04.689Z"
   },
   {
    "duration": 162,
    "start_time": "2023-02-13T01:04:04.709Z"
   },
   {
    "duration": 6,
    "start_time": "2023-02-13T01:04:04.873Z"
   },
   {
    "duration": 19,
    "start_time": "2023-02-13T01:04:04.881Z"
   },
   {
    "duration": 11,
    "start_time": "2023-02-13T01:04:04.902Z"
   },
   {
    "duration": 72,
    "start_time": "2023-02-13T01:04:04.914Z"
   },
   {
    "duration": 606,
    "start_time": "2023-02-13T01:04:04.988Z"
   },
   {
    "duration": 112,
    "start_time": "2023-02-13T01:04:05.597Z"
   },
   {
    "duration": 11,
    "start_time": "2023-02-13T01:04:05.711Z"
   },
   {
    "duration": 14,
    "start_time": "2023-02-13T01:04:05.723Z"
   },
   {
    "duration": 15,
    "start_time": "2023-02-13T01:04:05.738Z"
   },
   {
    "duration": 45,
    "start_time": "2023-02-13T01:04:05.755Z"
   },
   {
    "duration": 56,
    "start_time": "2023-02-13T01:04:05.802Z"
   },
   {
    "duration": 19,
    "start_time": "2023-02-13T01:04:05.860Z"
   },
   {
    "duration": 23469,
    "start_time": "2023-02-13T01:04:05.881Z"
   },
   {
    "duration": 198,
    "start_time": "2023-02-13T01:04:29.439Z"
   },
   {
    "duration": 325,
    "start_time": "2023-02-13T01:04:29.640Z"
   },
   {
    "duration": 155,
    "start_time": "2023-02-13T01:04:29.968Z"
   },
   {
    "duration": 48,
    "start_time": "2023-02-13T01:04:30.125Z"
   },
   {
    "duration": 35,
    "start_time": "2023-02-13T01:04:30.175Z"
   },
   {
    "duration": 39,
    "start_time": "2023-02-13T01:04:30.212Z"
   },
   {
    "duration": 29646,
    "start_time": "2023-02-13T01:04:30.253Z"
   },
   {
    "duration": 47,
    "start_time": "2023-02-13T01:04:59.900Z"
   },
   {
    "duration": 149,
    "start_time": "2023-02-13T01:04:59.949Z"
   },
   {
    "duration": 156,
    "start_time": "2023-02-13T01:05:00.100Z"
   },
   {
    "duration": 4,
    "start_time": "2023-02-13T01:05:00.258Z"
   },
   {
    "duration": 24,
    "start_time": "2023-02-13T01:05:00.264Z"
   },
   {
    "duration": 27,
    "start_time": "2023-02-13T01:05:00.290Z"
   },
   {
    "duration": 16,
    "start_time": "2023-02-13T01:05:00.319Z"
   },
   {
    "duration": 17,
    "start_time": "2023-02-13T01:05:00.337Z"
   },
   {
    "duration": 8,
    "start_time": "2023-02-13T01:05:00.356Z"
   },
   {
    "duration": 8914,
    "start_time": "2023-02-13T01:05:00.365Z"
   },
   {
    "duration": 18,
    "start_time": "2023-02-13T01:05:09.281Z"
   },
   {
    "duration": 178,
    "start_time": "2023-02-13T01:05:09.301Z"
   },
   {
    "duration": 146,
    "start_time": "2023-02-13T01:05:09.481Z"
   },
   {
    "duration": 7,
    "start_time": "2023-02-13T01:05:09.629Z"
   },
   {
    "duration": 6,
    "start_time": "2023-02-13T01:05:09.638Z"
   },
   {
    "duration": 12,
    "start_time": "2023-02-13T01:05:09.646Z"
   },
   {
    "duration": 3,
    "start_time": "2023-02-13T01:05:09.660Z"
   },
   {
    "duration": 8923,
    "start_time": "2023-02-13T01:05:09.665Z"
   },
   {
    "duration": 37,
    "start_time": "2023-02-13T01:05:18.590Z"
   },
   {
    "duration": 158,
    "start_time": "2023-02-13T01:05:18.636Z"
   },
   {
    "duration": 163,
    "start_time": "2023-02-13T01:05:18.795Z"
   },
   {
    "duration": 3,
    "start_time": "2023-02-13T01:05:18.960Z"
   },
   {
    "duration": 39,
    "start_time": "2023-02-13T01:05:18.965Z"
   },
   {
    "duration": 108887,
    "start_time": "2023-02-13T01:05:19.007Z"
   },
   {
    "duration": 40,
    "start_time": "2023-02-13T01:07:07.896Z"
   },
   {
    "duration": 149,
    "start_time": "2023-02-13T01:07:07.938Z"
   },
   {
    "duration": 191,
    "start_time": "2023-02-13T01:07:08.089Z"
   },
   {
    "duration": 3,
    "start_time": "2023-02-13T01:07:08.282Z"
   },
   {
    "duration": 52,
    "start_time": "2023-02-13T01:07:08.287Z"
   },
   {
    "duration": 84,
    "start_time": "2023-02-13T01:07:08.342Z"
   },
   {
    "duration": 47,
    "start_time": "2023-02-13T01:07:08.428Z"
   },
   {
    "duration": 10,
    "start_time": "2023-02-13T01:07:08.477Z"
   },
   {
    "duration": 297,
    "start_time": "2023-02-13T01:07:08.488Z"
   }
  ],
  "kernelspec": {
   "display_name": "Python 3 (ipykernel)",
   "language": "python",
   "name": "python3"
  },
  "language_info": {
   "codemirror_mode": {
    "name": "ipython",
    "version": 3
   },
   "file_extension": ".py",
   "mimetype": "text/x-python",
   "name": "python",
   "nbconvert_exporter": "python",
   "pygments_lexer": "ipython3",
   "version": "3.9.15"
  },
  "toc": {
   "base_numbering": 1,
   "nav_menu": {},
   "number_sections": true,
   "sideBar": true,
   "skip_h1_title": true,
   "title_cell": "Table of Contents",
   "title_sidebar": "Contents",
   "toc_cell": false,
   "toc_position": {
    "height": "calc(100% - 180px)",
    "left": "10px",
    "top": "150px",
    "width": "343px"
   },
   "toc_section_display": true,
   "toc_window_display": true
  }
 },
 "nbformat": 4,
 "nbformat_minor": 5
}
